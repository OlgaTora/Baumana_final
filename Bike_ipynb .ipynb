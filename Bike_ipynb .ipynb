{
  "cells": [
    {
      "cell_type": "code",
      "execution_count": 1,
      "metadata": {
        "id": "26xGIcDfGfOk"
      },
      "outputs": [],
      "source": [
        "import pandas as pd\n",
        "import numpy as np\n",
        "import seaborn as sns\n",
        "import plotly.express as px\n",
        "import matplotlib.pyplot as plt\n",
        "from sklearn.feature_selection import RFECV\n",
        "from sklearn.linear_model import LogisticRegression\n",
        "from sklearn.metrics import f1_score, roc_auc_score, recall_score, precision_score, accuracy_score, classification_report"
      ]
    },
    {
      "cell_type": "code",
      "execution_count": 2,
      "metadata": {
        "id": "iL88EmCvcBo0"
      },
      "outputs": [],
      "source": [
        "d = pd.read_excel('/content/DM_Sales.xls')"
      ]
    },
    {
      "cell_type": "code",
      "execution_count": 3,
      "metadata": {
        "colab": {
          "base_uri": "https://localhost:8080/",
          "height": 377
        },
        "id": "MOsLoYMMdZ-h",
        "outputId": "e72e3703-9490-4673-8705-fbcafc564ec0"
      },
      "outputs": [
        {
          "output_type": "execute_result",
          "data": {
            "text/plain": [
              "       index  transaction_id  product_id  customer_id     transaction_date  \\\n",
              "16893  12945            3070          16          417  2017-07-08 00:00:00   \n",
              "979     3004           19019          15          500  2017-10-16 00:00:00   \n",
              "18586   5548            1376          23         2924  2017-07-16 00:00:00   \n",
              "17679   8961            2283          56         2844  2017-02-21 00:00:00   \n",
              "2385    7222           17609          13         1641  2017-10-28 00:00:00   \n",
              "\n",
              "       online_order order_status           brand product_line product_class  \\\n",
              "16893           1.0     Approved  Norco Bicycles     Standard          high   \n",
              "979             1.0     Approved  Norco Bicycles     Standard           low   \n",
              "18586           0.0    Cancelled  Norco Bicycles     Mountain           low   \n",
              "17679           0.0     Approved      OHM Cycles     Standard        medium   \n",
              "2385            1.0     Approved           Solex     Standard        medium   \n",
              "\n",
              "       ...   last_name  gender  past_3_years_bike_related_purchases  \\\n",
              "16893  ...    Brambley  Female                                   37   \n",
              "979    ...    Crathern    Male                                   19   \n",
              "18586  ...  McLaughlin  Female                                   79   \n",
              "17679  ...     Felgate  Female                                   98   \n",
              "2385   ...    Sturgeon    Male                                   29   \n",
              "\n",
              "                           job_title job_industry_category     wealth_segment  \\\n",
              "16893             Biostatistician IV           Argiculture      Mass Customer   \n",
              "979               Recruiting Manager                Retail  Affluent Customer   \n",
              "18586        Assistant Media Planner         Entertainment      Mass Customer   \n",
              "17679                            NaN    Financial Services      Mass Customer   \n",
              "2385   Community Outreach Specialist    Financial Services      Mass Customer   \n",
              "\n",
              "      deceased_indicator  owns_car tenure                  age  \n",
              "16893                  N        No   15.0  1663587050985623040  \n",
              "979                    N       Yes   10.0   996233450985623040  \n",
              "18586                  N       Yes    6.0  1129030250985623040  \n",
              "17679                  N       Yes   13.0  1513337450985623040  \n",
              "2385                   N        No   14.0  1615030250985623040  \n",
              "\n",
              "[5 rows x 29 columns]"
            ],
            "text/html": [
              "\n",
              "  <div id=\"df-eb955b6b-4cf0-40fd-8881-38a24f9f0be7\" class=\"colab-df-container\">\n",
              "    <div>\n",
              "<style scoped>\n",
              "    .dataframe tbody tr th:only-of-type {\n",
              "        vertical-align: middle;\n",
              "    }\n",
              "\n",
              "    .dataframe tbody tr th {\n",
              "        vertical-align: top;\n",
              "    }\n",
              "\n",
              "    .dataframe thead th {\n",
              "        text-align: right;\n",
              "    }\n",
              "</style>\n",
              "<table border=\"1\" class=\"dataframe\">\n",
              "  <thead>\n",
              "    <tr style=\"text-align: right;\">\n",
              "      <th></th>\n",
              "      <th>index</th>\n",
              "      <th>transaction_id</th>\n",
              "      <th>product_id</th>\n",
              "      <th>customer_id</th>\n",
              "      <th>transaction_date</th>\n",
              "      <th>online_order</th>\n",
              "      <th>order_status</th>\n",
              "      <th>brand</th>\n",
              "      <th>product_line</th>\n",
              "      <th>product_class</th>\n",
              "      <th>...</th>\n",
              "      <th>last_name</th>\n",
              "      <th>gender</th>\n",
              "      <th>past_3_years_bike_related_purchases</th>\n",
              "      <th>job_title</th>\n",
              "      <th>job_industry_category</th>\n",
              "      <th>wealth_segment</th>\n",
              "      <th>deceased_indicator</th>\n",
              "      <th>owns_car</th>\n",
              "      <th>tenure</th>\n",
              "      <th>age</th>\n",
              "    </tr>\n",
              "  </thead>\n",
              "  <tbody>\n",
              "    <tr>\n",
              "      <th>16893</th>\n",
              "      <td>12945</td>\n",
              "      <td>3070</td>\n",
              "      <td>16</td>\n",
              "      <td>417</td>\n",
              "      <td>2017-07-08 00:00:00</td>\n",
              "      <td>1.0</td>\n",
              "      <td>Approved</td>\n",
              "      <td>Norco Bicycles</td>\n",
              "      <td>Standard</td>\n",
              "      <td>high</td>\n",
              "      <td>...</td>\n",
              "      <td>Brambley</td>\n",
              "      <td>Female</td>\n",
              "      <td>37</td>\n",
              "      <td>Biostatistician IV</td>\n",
              "      <td>Argiculture</td>\n",
              "      <td>Mass Customer</td>\n",
              "      <td>N</td>\n",
              "      <td>No</td>\n",
              "      <td>15.0</td>\n",
              "      <td>1663587050985623040</td>\n",
              "    </tr>\n",
              "    <tr>\n",
              "      <th>979</th>\n",
              "      <td>3004</td>\n",
              "      <td>19019</td>\n",
              "      <td>15</td>\n",
              "      <td>500</td>\n",
              "      <td>2017-10-16 00:00:00</td>\n",
              "      <td>1.0</td>\n",
              "      <td>Approved</td>\n",
              "      <td>Norco Bicycles</td>\n",
              "      <td>Standard</td>\n",
              "      <td>low</td>\n",
              "      <td>...</td>\n",
              "      <td>Crathern</td>\n",
              "      <td>Male</td>\n",
              "      <td>19</td>\n",
              "      <td>Recruiting Manager</td>\n",
              "      <td>Retail</td>\n",
              "      <td>Affluent Customer</td>\n",
              "      <td>N</td>\n",
              "      <td>Yes</td>\n",
              "      <td>10.0</td>\n",
              "      <td>996233450985623040</td>\n",
              "    </tr>\n",
              "    <tr>\n",
              "      <th>18586</th>\n",
              "      <td>5548</td>\n",
              "      <td>1376</td>\n",
              "      <td>23</td>\n",
              "      <td>2924</td>\n",
              "      <td>2017-07-16 00:00:00</td>\n",
              "      <td>0.0</td>\n",
              "      <td>Cancelled</td>\n",
              "      <td>Norco Bicycles</td>\n",
              "      <td>Mountain</td>\n",
              "      <td>low</td>\n",
              "      <td>...</td>\n",
              "      <td>McLaughlin</td>\n",
              "      <td>Female</td>\n",
              "      <td>79</td>\n",
              "      <td>Assistant Media Planner</td>\n",
              "      <td>Entertainment</td>\n",
              "      <td>Mass Customer</td>\n",
              "      <td>N</td>\n",
              "      <td>Yes</td>\n",
              "      <td>6.0</td>\n",
              "      <td>1129030250985623040</td>\n",
              "    </tr>\n",
              "    <tr>\n",
              "      <th>17679</th>\n",
              "      <td>8961</td>\n",
              "      <td>2283</td>\n",
              "      <td>56</td>\n",
              "      <td>2844</td>\n",
              "      <td>2017-02-21 00:00:00</td>\n",
              "      <td>0.0</td>\n",
              "      <td>Approved</td>\n",
              "      <td>OHM Cycles</td>\n",
              "      <td>Standard</td>\n",
              "      <td>medium</td>\n",
              "      <td>...</td>\n",
              "      <td>Felgate</td>\n",
              "      <td>Female</td>\n",
              "      <td>98</td>\n",
              "      <td>NaN</td>\n",
              "      <td>Financial Services</td>\n",
              "      <td>Mass Customer</td>\n",
              "      <td>N</td>\n",
              "      <td>Yes</td>\n",
              "      <td>13.0</td>\n",
              "      <td>1513337450985623040</td>\n",
              "    </tr>\n",
              "    <tr>\n",
              "      <th>2385</th>\n",
              "      <td>7222</td>\n",
              "      <td>17609</td>\n",
              "      <td>13</td>\n",
              "      <td>1641</td>\n",
              "      <td>2017-10-28 00:00:00</td>\n",
              "      <td>1.0</td>\n",
              "      <td>Approved</td>\n",
              "      <td>Solex</td>\n",
              "      <td>Standard</td>\n",
              "      <td>medium</td>\n",
              "      <td>...</td>\n",
              "      <td>Sturgeon</td>\n",
              "      <td>Male</td>\n",
              "      <td>29</td>\n",
              "      <td>Community Outreach Specialist</td>\n",
              "      <td>Financial Services</td>\n",
              "      <td>Mass Customer</td>\n",
              "      <td>N</td>\n",
              "      <td>No</td>\n",
              "      <td>14.0</td>\n",
              "      <td>1615030250985623040</td>\n",
              "    </tr>\n",
              "  </tbody>\n",
              "</table>\n",
              "<p>5 rows × 29 columns</p>\n",
              "</div>\n",
              "    <div class=\"colab-df-buttons\">\n",
              "\n",
              "  <div class=\"colab-df-container\">\n",
              "    <button class=\"colab-df-convert\" onclick=\"convertToInteractive('df-eb955b6b-4cf0-40fd-8881-38a24f9f0be7')\"\n",
              "            title=\"Convert this dataframe to an interactive table.\"\n",
              "            style=\"display:none;\">\n",
              "\n",
              "  <svg xmlns=\"http://www.w3.org/2000/svg\" height=\"24px\" viewBox=\"0 -960 960 960\">\n",
              "    <path d=\"M120-120v-720h720v720H120Zm60-500h600v-160H180v160Zm220 220h160v-160H400v160Zm0 220h160v-160H400v160ZM180-400h160v-160H180v160Zm440 0h160v-160H620v160ZM180-180h160v-160H180v160Zm440 0h160v-160H620v160Z\"/>\n",
              "  </svg>\n",
              "    </button>\n",
              "\n",
              "  <style>\n",
              "    .colab-df-container {\n",
              "      display:flex;\n",
              "      gap: 12px;\n",
              "    }\n",
              "\n",
              "    .colab-df-convert {\n",
              "      background-color: #E8F0FE;\n",
              "      border: none;\n",
              "      border-radius: 50%;\n",
              "      cursor: pointer;\n",
              "      display: none;\n",
              "      fill: #1967D2;\n",
              "      height: 32px;\n",
              "      padding: 0 0 0 0;\n",
              "      width: 32px;\n",
              "    }\n",
              "\n",
              "    .colab-df-convert:hover {\n",
              "      background-color: #E2EBFA;\n",
              "      box-shadow: 0px 1px 2px rgba(60, 64, 67, 0.3), 0px 1px 3px 1px rgba(60, 64, 67, 0.15);\n",
              "      fill: #174EA6;\n",
              "    }\n",
              "\n",
              "    .colab-df-buttons div {\n",
              "      margin-bottom: 4px;\n",
              "    }\n",
              "\n",
              "    [theme=dark] .colab-df-convert {\n",
              "      background-color: #3B4455;\n",
              "      fill: #D2E3FC;\n",
              "    }\n",
              "\n",
              "    [theme=dark] .colab-df-convert:hover {\n",
              "      background-color: #434B5C;\n",
              "      box-shadow: 0px 1px 3px 1px rgba(0, 0, 0, 0.15);\n",
              "      filter: drop-shadow(0px 1px 2px rgba(0, 0, 0, 0.3));\n",
              "      fill: #FFFFFF;\n",
              "    }\n",
              "  </style>\n",
              "\n",
              "    <script>\n",
              "      const buttonEl =\n",
              "        document.querySelector('#df-eb955b6b-4cf0-40fd-8881-38a24f9f0be7 button.colab-df-convert');\n",
              "      buttonEl.style.display =\n",
              "        google.colab.kernel.accessAllowed ? 'block' : 'none';\n",
              "\n",
              "      async function convertToInteractive(key) {\n",
              "        const element = document.querySelector('#df-eb955b6b-4cf0-40fd-8881-38a24f9f0be7');\n",
              "        const dataTable =\n",
              "          await google.colab.kernel.invokeFunction('convertToInteractive',\n",
              "                                                    [key], {});\n",
              "        if (!dataTable) return;\n",
              "\n",
              "        const docLinkHtml = 'Like what you see? Visit the ' +\n",
              "          '<a target=\"_blank\" href=https://colab.research.google.com/notebooks/data_table.ipynb>data table notebook</a>'\n",
              "          + ' to learn more about interactive tables.';\n",
              "        element.innerHTML = '';\n",
              "        dataTable['output_type'] = 'display_data';\n",
              "        await google.colab.output.renderOutput(dataTable, element);\n",
              "        const docLink = document.createElement('div');\n",
              "        docLink.innerHTML = docLinkHtml;\n",
              "        element.appendChild(docLink);\n",
              "      }\n",
              "    </script>\n",
              "  </div>\n",
              "\n",
              "\n",
              "<div id=\"df-bd79eed6-c096-43ce-a5eb-f676ce0169e5\">\n",
              "  <button class=\"colab-df-quickchart\" onclick=\"quickchart('df-bd79eed6-c096-43ce-a5eb-f676ce0169e5')\"\n",
              "            title=\"Suggest charts.\"\n",
              "            style=\"display:none;\">\n",
              "\n",
              "<svg xmlns=\"http://www.w3.org/2000/svg\" height=\"24px\"viewBox=\"0 0 24 24\"\n",
              "     width=\"24px\">\n",
              "    <g>\n",
              "        <path d=\"M19 3H5c-1.1 0-2 .9-2 2v14c0 1.1.9 2 2 2h14c1.1 0 2-.9 2-2V5c0-1.1-.9-2-2-2zM9 17H7v-7h2v7zm4 0h-2V7h2v10zm4 0h-2v-4h2v4z\"/>\n",
              "    </g>\n",
              "</svg>\n",
              "  </button>\n",
              "\n",
              "<style>\n",
              "  .colab-df-quickchart {\n",
              "      --bg-color: #E8F0FE;\n",
              "      --fill-color: #1967D2;\n",
              "      --hover-bg-color: #E2EBFA;\n",
              "      --hover-fill-color: #174EA6;\n",
              "      --disabled-fill-color: #AAA;\n",
              "      --disabled-bg-color: #DDD;\n",
              "  }\n",
              "\n",
              "  [theme=dark] .colab-df-quickchart {\n",
              "      --bg-color: #3B4455;\n",
              "      --fill-color: #D2E3FC;\n",
              "      --hover-bg-color: #434B5C;\n",
              "      --hover-fill-color: #FFFFFF;\n",
              "      --disabled-bg-color: #3B4455;\n",
              "      --disabled-fill-color: #666;\n",
              "  }\n",
              "\n",
              "  .colab-df-quickchart {\n",
              "    background-color: var(--bg-color);\n",
              "    border: none;\n",
              "    border-radius: 50%;\n",
              "    cursor: pointer;\n",
              "    display: none;\n",
              "    fill: var(--fill-color);\n",
              "    height: 32px;\n",
              "    padding: 0;\n",
              "    width: 32px;\n",
              "  }\n",
              "\n",
              "  .colab-df-quickchart:hover {\n",
              "    background-color: var(--hover-bg-color);\n",
              "    box-shadow: 0 1px 2px rgba(60, 64, 67, 0.3), 0 1px 3px 1px rgba(60, 64, 67, 0.15);\n",
              "    fill: var(--button-hover-fill-color);\n",
              "  }\n",
              "\n",
              "  .colab-df-quickchart-complete:disabled,\n",
              "  .colab-df-quickchart-complete:disabled:hover {\n",
              "    background-color: var(--disabled-bg-color);\n",
              "    fill: var(--disabled-fill-color);\n",
              "    box-shadow: none;\n",
              "  }\n",
              "\n",
              "  .colab-df-spinner {\n",
              "    border: 2px solid var(--fill-color);\n",
              "    border-color: transparent;\n",
              "    border-bottom-color: var(--fill-color);\n",
              "    animation:\n",
              "      spin 1s steps(1) infinite;\n",
              "  }\n",
              "\n",
              "  @keyframes spin {\n",
              "    0% {\n",
              "      border-color: transparent;\n",
              "      border-bottom-color: var(--fill-color);\n",
              "      border-left-color: var(--fill-color);\n",
              "    }\n",
              "    20% {\n",
              "      border-color: transparent;\n",
              "      border-left-color: var(--fill-color);\n",
              "      border-top-color: var(--fill-color);\n",
              "    }\n",
              "    30% {\n",
              "      border-color: transparent;\n",
              "      border-left-color: var(--fill-color);\n",
              "      border-top-color: var(--fill-color);\n",
              "      border-right-color: var(--fill-color);\n",
              "    }\n",
              "    40% {\n",
              "      border-color: transparent;\n",
              "      border-right-color: var(--fill-color);\n",
              "      border-top-color: var(--fill-color);\n",
              "    }\n",
              "    60% {\n",
              "      border-color: transparent;\n",
              "      border-right-color: var(--fill-color);\n",
              "    }\n",
              "    80% {\n",
              "      border-color: transparent;\n",
              "      border-right-color: var(--fill-color);\n",
              "      border-bottom-color: var(--fill-color);\n",
              "    }\n",
              "    90% {\n",
              "      border-color: transparent;\n",
              "      border-bottom-color: var(--fill-color);\n",
              "    }\n",
              "  }\n",
              "</style>\n",
              "\n",
              "  <script>\n",
              "    async function quickchart(key) {\n",
              "      const quickchartButtonEl =\n",
              "        document.querySelector('#' + key + ' button');\n",
              "      quickchartButtonEl.disabled = true;  // To prevent multiple clicks.\n",
              "      quickchartButtonEl.classList.add('colab-df-spinner');\n",
              "      try {\n",
              "        const charts = await google.colab.kernel.invokeFunction(\n",
              "            'suggestCharts', [key], {});\n",
              "      } catch (error) {\n",
              "        console.error('Error during call to suggestCharts:', error);\n",
              "      }\n",
              "      quickchartButtonEl.classList.remove('colab-df-spinner');\n",
              "      quickchartButtonEl.classList.add('colab-df-quickchart-complete');\n",
              "    }\n",
              "    (() => {\n",
              "      let quickchartButtonEl =\n",
              "        document.querySelector('#df-bd79eed6-c096-43ce-a5eb-f676ce0169e5 button');\n",
              "      quickchartButtonEl.style.display =\n",
              "        google.colab.kernel.accessAllowed ? 'block' : 'none';\n",
              "    })();\n",
              "  </script>\n",
              "</div>\n",
              "    </div>\n",
              "  </div>\n"
            ]
          },
          "metadata": {},
          "execution_count": 3
        }
      ],
      "source": [
        "d.sample(5)"
      ]
    },
    {
      "cell_type": "markdown",
      "source": [],
      "metadata": {
        "id": "H699RkUFuRTK"
      }
    },
    {
      "cell_type": "code",
      "execution_count": 4,
      "metadata": {
        "colab": {
          "base_uri": "https://localhost:8080/"
        },
        "id": "tAQMXIuUDOvB",
        "outputId": "18923f98-b8d7-4552-9dc5-8d1bd2b7247e"
      },
      "outputs": [
        {
          "output_type": "execute_result",
          "data": {
            "text/plain": [
              "index                                     0\n",
              "transaction_id                            0\n",
              "product_id                                0\n",
              "customer_id                               0\n",
              "transaction_date                          0\n",
              "online_order                            359\n",
              "order_status                              0\n",
              "brand                                   194\n",
              "product_line                            194\n",
              "product_class                           194\n",
              "product_size                            194\n",
              "list_price                                0\n",
              "standard_cost                           194\n",
              "product_first_sold_date                 194\n",
              "address                                   0\n",
              "postcode                                  0\n",
              "state                                     0\n",
              "property_valuation                        0\n",
              "first_name                                0\n",
              "last_name                               642\n",
              "gender                                    0\n",
              "past_3_years_bike_related_purchases       0\n",
              "job_title                              2379\n",
              "job_industry_category                  3222\n",
              "wealth_segment                            0\n",
              "deceased_indicator                        0\n",
              "owns_car                                  0\n",
              "tenure                                  446\n",
              "age                                       0\n",
              "dtype: int64"
            ]
          },
          "metadata": {},
          "execution_count": 4
        }
      ],
      "source": [
        "d.isna().sum()"
      ]
    },
    {
      "cell_type": "code",
      "execution_count": 5,
      "metadata": {
        "colab": {
          "base_uri": "https://localhost:8080/"
        },
        "id": "D_ca3nNGDc4m",
        "outputId": "c2395b83-f27e-46fa-b49a-8c130ce7791a"
      },
      "outputs": [
        {
          "output_type": "execute_result",
          "data": {
            "text/plain": [
              "index                                  19959\n",
              "transaction_id                         19959\n",
              "product_id                               101\n",
              "customer_id                             3488\n",
              "transaction_date                         364\n",
              "online_order                               2\n",
              "order_status                               2\n",
              "brand                                      6\n",
              "product_line                               4\n",
              "product_class                              3\n",
              "product_size                               3\n",
              "list_price                               293\n",
              "standard_cost                            100\n",
              "product_first_sold_date                  100\n",
              "address                                 3486\n",
              "postcode                                 835\n",
              "state                                      5\n",
              "property_valuation                        12\n",
              "first_name                              2834\n",
              "last_name                               3262\n",
              "gender                                     3\n",
              "past_3_years_bike_related_purchases      100\n",
              "job_title                                195\n",
              "job_industry_category                      9\n",
              "wealth_segment                             3\n",
              "deceased_indicator                         2\n",
              "owns_car                                   2\n",
              "tenure                                    22\n",
              "age                                     3046\n",
              "dtype: int64"
            ]
          },
          "metadata": {},
          "execution_count": 5
        }
      ],
      "source": [
        "d.nunique()"
      ]
    },
    {
      "cell_type": "code",
      "execution_count": 6,
      "metadata": {
        "colab": {
          "base_uri": "https://localhost:8080/"
        },
        "id": "EGzz5P3Ygkde",
        "outputId": "5a630e3a-8643-4d80-982d-e88ca28f810d"
      },
      "outputs": [
        {
          "output_type": "stream",
          "name": "stdout",
          "text": [
            "<class 'pandas.core.frame.DataFrame'>\n",
            "RangeIndex: 19959 entries, 0 to 19958\n",
            "Data columns (total 29 columns):\n",
            " #   Column                               Non-Null Count  Dtype  \n",
            "---  ------                               --------------  -----  \n",
            " 0   index                                19959 non-null  int64  \n",
            " 1   transaction_id                       19959 non-null  int64  \n",
            " 2   product_id                           19959 non-null  int64  \n",
            " 3   customer_id                          19959 non-null  int64  \n",
            " 4   transaction_date                     19959 non-null  object \n",
            " 5   online_order                         19600 non-null  float64\n",
            " 6   order_status                         19959 non-null  object \n",
            " 7   brand                                19765 non-null  object \n",
            " 8   product_line                         19765 non-null  object \n",
            " 9   product_class                        19765 non-null  object \n",
            " 10  product_size                         19765 non-null  object \n",
            " 11  list_price                           19959 non-null  float64\n",
            " 12  standard_cost                        19765 non-null  float64\n",
            " 13  product_first_sold_date              19765 non-null  object \n",
            " 14  address                              19959 non-null  object \n",
            " 15  postcode                             19959 non-null  int64  \n",
            " 16  state                                19959 non-null  object \n",
            " 17  property_valuation                   19959 non-null  int64  \n",
            " 18  first_name                           19959 non-null  object \n",
            " 19  last_name                            19317 non-null  object \n",
            " 20  gender                               19959 non-null  object \n",
            " 21  past_3_years_bike_related_purchases  19959 non-null  int64  \n",
            " 22  job_title                            17580 non-null  object \n",
            " 23  job_industry_category                16737 non-null  object \n",
            " 24  wealth_segment                       19959 non-null  object \n",
            " 25  deceased_indicator                   19959 non-null  object \n",
            " 26  owns_car                             19959 non-null  object \n",
            " 27  tenure                               19513 non-null  float64\n",
            " 28  age                                  19959 non-null  int64  \n",
            "dtypes: float64(4), int64(8), object(17)\n",
            "memory usage: 4.4+ MB\n"
          ]
        }
      ],
      "source": [
        "d.info()"
      ]
    },
    {
      "cell_type": "code",
      "execution_count": 7,
      "metadata": {
        "colab": {
          "base_uri": "https://localhost:8080/"
        },
        "id": "XelCaX5-gkgS",
        "outputId": "e00ea0b2-f9dd-472f-be7c-b8940f181cb8"
      },
      "outputs": [
        {
          "output_type": "execute_result",
          "data": {
            "text/plain": [
              "Yes    10042\n",
              "No      9917\n",
              "Name: owns_car, dtype: int64"
            ]
          },
          "metadata": {},
          "execution_count": 7
        }
      ],
      "source": [
        "d.owns_car.value_counts()"
      ]
    },
    {
      "cell_type": "code",
      "execution_count": 8,
      "metadata": {
        "colab": {
          "base_uri": "https://localhost:8080/"
        },
        "id": "AV7EJxtngkiv",
        "outputId": "17fc5896-9ecc-4fc4-b722-e30c034de62f"
      },
      "outputs": [
        {
          "output_type": "execute_result",
          "data": {
            "text/plain": [
              "Approved     19781\n",
              "Cancelled      178\n",
              "Name: order_status, dtype: int64"
            ]
          },
          "metadata": {},
          "execution_count": 8
        }
      ],
      "source": [
        "d.order_status.value_counts()"
      ]
    },
    {
      "cell_type": "code",
      "execution_count": 9,
      "metadata": {
        "colab": {
          "base_uri": "https://localhost:8080/"
        },
        "id": "dJIxeXEIgklQ",
        "outputId": "8527cfc9-55f1-4f01-a064-78b2ffee765d"
      },
      "outputs": [
        {
          "output_type": "execute_result",
          "data": {
            "text/plain": [
              "1.0    9815\n",
              "0.0    9785\n",
              "Name: online_order, dtype: int64"
            ]
          },
          "metadata": {},
          "execution_count": 9
        }
      ],
      "source": [
        "d.online_order.value_counts()"
      ]
    },
    {
      "cell_type": "code",
      "execution_count": 10,
      "metadata": {
        "colab": {
          "base_uri": "https://localhost:8080/"
        },
        "id": "_f9zl78rDleg",
        "outputId": "1e6a2590-94d7-4312-f7cf-b6abca4c5a13"
      },
      "outputs": [
        {
          "output_type": "execute_result",
          "data": {
            "text/plain": [
              "Female     9997\n",
              "Male       9516\n",
              "Unknown     446\n",
              "Name: gender, dtype: int64"
            ]
          },
          "metadata": {},
          "execution_count": 10
        }
      ],
      "source": [
        "d.gender.value_counts()"
      ]
    },
    {
      "cell_type": "code",
      "execution_count": 11,
      "metadata": {
        "id": "PasBIbmwD2Lp"
      },
      "outputs": [],
      "source": [
        "d.gender = d.gender.replace('F', 'Female')\n",
        "d.gender = d.gender.replace('Femal', 'Female')\n",
        "d.gender = d.gender.replace('M', 'Male')\n",
        "d.gender = d.gender.replace('U', 'Unknown')"
      ]
    },
    {
      "cell_type": "code",
      "execution_count": 12,
      "metadata": {
        "colab": {
          "base_uri": "https://localhost:8080/"
        },
        "id": "lAQY8QpteURj",
        "outputId": "fc9872b9-05f0-4b6c-f62e-83cad2700038"
      },
      "outputs": [
        {
          "output_type": "execute_result",
          "data": {
            "text/plain": [
              "Female     9997\n",
              "Male       9516\n",
              "Unknown     446\n",
              "Name: gender, dtype: int64"
            ]
          },
          "metadata": {},
          "execution_count": 12
        }
      ],
      "source": [
        "d.gender.value_counts()"
      ]
    },
    {
      "cell_type": "code",
      "execution_count": 13,
      "metadata": {
        "colab": {
          "base_uri": "https://localhost:8080/"
        },
        "id": "fttg0kqIhn1f",
        "outputId": "8b99509e-2d3e-4d4c-cf60-6b9652130270"
      },
      "outputs": [
        {
          "output_type": "execute_result",
          "data": {
            "text/plain": [
              "N    19951\n",
              "Y        8\n",
              "Name: deceased_indicator, dtype: int64"
            ]
          },
          "metadata": {},
          "execution_count": 13
        }
      ],
      "source": [
        "d.deceased_indicator.value_counts()"
      ]
    },
    {
      "cell_type": "code",
      "execution_count": 14,
      "metadata": {
        "colab": {
          "base_uri": "https://localhost:8080/"
        },
        "id": "L_clMfoUBsjt",
        "outputId": "9ed64e8f-4397-480d-d3f2-86426eaabd3d"
      },
      "outputs": [
        {
          "output_type": "execute_result",
          "data": {
            "text/plain": [
              "1.0    9815\n",
              "0.0    9785\n",
              "Name: online_order, dtype: int64"
            ]
          },
          "metadata": {},
          "execution_count": 14
        }
      ],
      "source": [
        "d.online_order.value_counts()"
      ]
    },
    {
      "cell_type": "code",
      "execution_count": 15,
      "metadata": {
        "colab": {
          "base_uri": "https://localhost:8080/"
        },
        "id": "X0_XPI1IWDm-",
        "outputId": "6399fcd9-2e48-48b0-c6e9-30ad92712b6f"
      },
      "outputs": [
        {
          "output_type": "execute_result",
          "data": {
            "text/plain": [
              "0        2017-09-22 00:00:00\n",
              "1        2017-07-03 00:00:00\n",
              "2        2017-04-14 00:00:00\n",
              "3        2017-11-09 00:00:00\n",
              "4        2017-06-24 00:00:00\n",
              "                ...         \n",
              "19954    2017-10-01 00:00:00\n",
              "19955    2017-08-31 00:00:00\n",
              "19956    2017-10-16 00:00:00\n",
              "19957    2017-05-21 00:00:00\n",
              "19958    2017-02-25 00:00:00\n",
              "Name: transaction_date, Length: 19959, dtype: object"
            ]
          },
          "metadata": {},
          "execution_count": 15
        }
      ],
      "source": [
        "d.transaction_date"
      ]
    },
    {
      "cell_type": "code",
      "execution_count": 16,
      "metadata": {
        "id": "v8kGHNBRN25o"
      },
      "outputs": [],
      "source": [
        "d[\"transaction_date\"] = pd.to_datetime(d[\"transaction_date\"])\n"
      ]
    },
    {
      "cell_type": "code",
      "execution_count": 17,
      "metadata": {
        "colab": {
          "base_uri": "https://localhost:8080/"
        },
        "id": "3WQk1tIINf2N",
        "outputId": "9d4a5666-5a74-4df9-aa3b-4188892dc92a"
      },
      "outputs": [
        {
          "output_type": "execute_result",
          "data": {
            "text/plain": [
              "0        1999-06-25 00:00:00\n",
              "1        2004-08-19 00:00:00\n",
              "2        2010-08-22 00:00:00\n",
              "3        1997-05-12 00:00:00\n",
              "4        2003-07-23 00:00:00\n",
              "                ...         \n",
              "19954    2015-08-12 00:00:00\n",
              "19955    1998-12-18 00:00:00\n",
              "19956    1999-07-22 00:00:00\n",
              "19957    2014-03-05 00:00:00\n",
              "19958    2012-12-04 00:00:00\n",
              "Name: product_first_sold_date, Length: 19959, dtype: object"
            ]
          },
          "metadata": {},
          "execution_count": 17
        }
      ],
      "source": [
        "d['product_first_sold_date'].mode()\n",
        "d.product_first_sold_date"
      ]
    },
    {
      "cell_type": "code",
      "execution_count": 18,
      "metadata": {
        "id": "kqr_Nh-3NgWg"
      },
      "outputs": [],
      "source": [
        "# d['owns_car'] = d['owns_car'].map(lambda x: 1 if x == 'Yes' else 0)\n",
        "# d['deceased_indicator'] = d['deceased_indicator'].map(lambda x: 1 if x == 'Y' else 0)"
      ]
    },
    {
      "cell_type": "code",
      "execution_count": 19,
      "metadata": {
        "colab": {
          "base_uri": "https://localhost:8080/",
          "height": 262
        },
        "id": "fiF34ms3NgX3",
        "outputId": "73ba3f73-05bc-4c3f-b98f-7c3b88c3d098"
      },
      "outputs": [
        {
          "output_type": "execute_result",
          "data": {
            "text/plain": [
              "       index  transaction_id  product_id  customer_id transaction_date  \\\n",
              "10808   1148            9167          35         2282       2017-06-27   \n",
              "19433   3139             527          14         1499       2017-08-27   \n",
              "13328   3560            6641          92         1691       2017-12-04   \n",
              "\n",
              "       online_order order_status          brand product_line product_class  \\\n",
              "10808           0.0     Approved  Trek Bicycles     Standard           low   \n",
              "19433           1.0     Approved  Trek Bicycles     Standard        medium   \n",
              "13328           1.0     Approved       WeareA2B      Touring        medium   \n",
              "\n",
              "       ...   last_name  gender  past_3_years_bike_related_purchases  \\\n",
              "10808  ...  Gregoletti    Male                                   81   \n",
              "19433  ...        Wrey    Male                                   88   \n",
              "13328  ...         NaN    Male                                   50   \n",
              "\n",
              "                      job_title job_industry_category     wealth_segment  \\\n",
              "10808  Senior Financial Analyst    Financial Services  Affluent Customer   \n",
              "19433           Design Engineer         Manufacturing      Mass Customer   \n",
              "13328       Account Coordinator                   NaN     High Net Worth   \n",
              "\n",
              "      deceased_indicator  owns_car tenure                  age  \n",
              "10808                  N       Yes    7.0  2104659050985623040  \n",
              "19433                  N       Yes   11.0  1584703850985623040  \n",
              "13328                  N       Yes    7.0  1387625450985623040  \n",
              "\n",
              "[3 rows x 29 columns]"
            ],
            "text/html": [
              "\n",
              "  <div id=\"df-126d1774-692c-4a88-9b5e-791e2f18d946\" class=\"colab-df-container\">\n",
              "    <div>\n",
              "<style scoped>\n",
              "    .dataframe tbody tr th:only-of-type {\n",
              "        vertical-align: middle;\n",
              "    }\n",
              "\n",
              "    .dataframe tbody tr th {\n",
              "        vertical-align: top;\n",
              "    }\n",
              "\n",
              "    .dataframe thead th {\n",
              "        text-align: right;\n",
              "    }\n",
              "</style>\n",
              "<table border=\"1\" class=\"dataframe\">\n",
              "  <thead>\n",
              "    <tr style=\"text-align: right;\">\n",
              "      <th></th>\n",
              "      <th>index</th>\n",
              "      <th>transaction_id</th>\n",
              "      <th>product_id</th>\n",
              "      <th>customer_id</th>\n",
              "      <th>transaction_date</th>\n",
              "      <th>online_order</th>\n",
              "      <th>order_status</th>\n",
              "      <th>brand</th>\n",
              "      <th>product_line</th>\n",
              "      <th>product_class</th>\n",
              "      <th>...</th>\n",
              "      <th>last_name</th>\n",
              "      <th>gender</th>\n",
              "      <th>past_3_years_bike_related_purchases</th>\n",
              "      <th>job_title</th>\n",
              "      <th>job_industry_category</th>\n",
              "      <th>wealth_segment</th>\n",
              "      <th>deceased_indicator</th>\n",
              "      <th>owns_car</th>\n",
              "      <th>tenure</th>\n",
              "      <th>age</th>\n",
              "    </tr>\n",
              "  </thead>\n",
              "  <tbody>\n",
              "    <tr>\n",
              "      <th>10808</th>\n",
              "      <td>1148</td>\n",
              "      <td>9167</td>\n",
              "      <td>35</td>\n",
              "      <td>2282</td>\n",
              "      <td>2017-06-27</td>\n",
              "      <td>0.0</td>\n",
              "      <td>Approved</td>\n",
              "      <td>Trek Bicycles</td>\n",
              "      <td>Standard</td>\n",
              "      <td>low</td>\n",
              "      <td>...</td>\n",
              "      <td>Gregoletti</td>\n",
              "      <td>Male</td>\n",
              "      <td>81</td>\n",
              "      <td>Senior Financial Analyst</td>\n",
              "      <td>Financial Services</td>\n",
              "      <td>Affluent Customer</td>\n",
              "      <td>N</td>\n",
              "      <td>Yes</td>\n",
              "      <td>7.0</td>\n",
              "      <td>2104659050985623040</td>\n",
              "    </tr>\n",
              "    <tr>\n",
              "      <th>19433</th>\n",
              "      <td>3139</td>\n",
              "      <td>527</td>\n",
              "      <td>14</td>\n",
              "      <td>1499</td>\n",
              "      <td>2017-08-27</td>\n",
              "      <td>1.0</td>\n",
              "      <td>Approved</td>\n",
              "      <td>Trek Bicycles</td>\n",
              "      <td>Standard</td>\n",
              "      <td>medium</td>\n",
              "      <td>...</td>\n",
              "      <td>Wrey</td>\n",
              "      <td>Male</td>\n",
              "      <td>88</td>\n",
              "      <td>Design Engineer</td>\n",
              "      <td>Manufacturing</td>\n",
              "      <td>Mass Customer</td>\n",
              "      <td>N</td>\n",
              "      <td>Yes</td>\n",
              "      <td>11.0</td>\n",
              "      <td>1584703850985623040</td>\n",
              "    </tr>\n",
              "    <tr>\n",
              "      <th>13328</th>\n",
              "      <td>3560</td>\n",
              "      <td>6641</td>\n",
              "      <td>92</td>\n",
              "      <td>1691</td>\n",
              "      <td>2017-12-04</td>\n",
              "      <td>1.0</td>\n",
              "      <td>Approved</td>\n",
              "      <td>WeareA2B</td>\n",
              "      <td>Touring</td>\n",
              "      <td>medium</td>\n",
              "      <td>...</td>\n",
              "      <td>NaN</td>\n",
              "      <td>Male</td>\n",
              "      <td>50</td>\n",
              "      <td>Account Coordinator</td>\n",
              "      <td>NaN</td>\n",
              "      <td>High Net Worth</td>\n",
              "      <td>N</td>\n",
              "      <td>Yes</td>\n",
              "      <td>7.0</td>\n",
              "      <td>1387625450985623040</td>\n",
              "    </tr>\n",
              "  </tbody>\n",
              "</table>\n",
              "<p>3 rows × 29 columns</p>\n",
              "</div>\n",
              "    <div class=\"colab-df-buttons\">\n",
              "\n",
              "  <div class=\"colab-df-container\">\n",
              "    <button class=\"colab-df-convert\" onclick=\"convertToInteractive('df-126d1774-692c-4a88-9b5e-791e2f18d946')\"\n",
              "            title=\"Convert this dataframe to an interactive table.\"\n",
              "            style=\"display:none;\">\n",
              "\n",
              "  <svg xmlns=\"http://www.w3.org/2000/svg\" height=\"24px\" viewBox=\"0 -960 960 960\">\n",
              "    <path d=\"M120-120v-720h720v720H120Zm60-500h600v-160H180v160Zm220 220h160v-160H400v160Zm0 220h160v-160H400v160ZM180-400h160v-160H180v160Zm440 0h160v-160H620v160ZM180-180h160v-160H180v160Zm440 0h160v-160H620v160Z\"/>\n",
              "  </svg>\n",
              "    </button>\n",
              "\n",
              "  <style>\n",
              "    .colab-df-container {\n",
              "      display:flex;\n",
              "      gap: 12px;\n",
              "    }\n",
              "\n",
              "    .colab-df-convert {\n",
              "      background-color: #E8F0FE;\n",
              "      border: none;\n",
              "      border-radius: 50%;\n",
              "      cursor: pointer;\n",
              "      display: none;\n",
              "      fill: #1967D2;\n",
              "      height: 32px;\n",
              "      padding: 0 0 0 0;\n",
              "      width: 32px;\n",
              "    }\n",
              "\n",
              "    .colab-df-convert:hover {\n",
              "      background-color: #E2EBFA;\n",
              "      box-shadow: 0px 1px 2px rgba(60, 64, 67, 0.3), 0px 1px 3px 1px rgba(60, 64, 67, 0.15);\n",
              "      fill: #174EA6;\n",
              "    }\n",
              "\n",
              "    .colab-df-buttons div {\n",
              "      margin-bottom: 4px;\n",
              "    }\n",
              "\n",
              "    [theme=dark] .colab-df-convert {\n",
              "      background-color: #3B4455;\n",
              "      fill: #D2E3FC;\n",
              "    }\n",
              "\n",
              "    [theme=dark] .colab-df-convert:hover {\n",
              "      background-color: #434B5C;\n",
              "      box-shadow: 0px 1px 3px 1px rgba(0, 0, 0, 0.15);\n",
              "      filter: drop-shadow(0px 1px 2px rgba(0, 0, 0, 0.3));\n",
              "      fill: #FFFFFF;\n",
              "    }\n",
              "  </style>\n",
              "\n",
              "    <script>\n",
              "      const buttonEl =\n",
              "        document.querySelector('#df-126d1774-692c-4a88-9b5e-791e2f18d946 button.colab-df-convert');\n",
              "      buttonEl.style.display =\n",
              "        google.colab.kernel.accessAllowed ? 'block' : 'none';\n",
              "\n",
              "      async function convertToInteractive(key) {\n",
              "        const element = document.querySelector('#df-126d1774-692c-4a88-9b5e-791e2f18d946');\n",
              "        const dataTable =\n",
              "          await google.colab.kernel.invokeFunction('convertToInteractive',\n",
              "                                                    [key], {});\n",
              "        if (!dataTable) return;\n",
              "\n",
              "        const docLinkHtml = 'Like what you see? Visit the ' +\n",
              "          '<a target=\"_blank\" href=https://colab.research.google.com/notebooks/data_table.ipynb>data table notebook</a>'\n",
              "          + ' to learn more about interactive tables.';\n",
              "        element.innerHTML = '';\n",
              "        dataTable['output_type'] = 'display_data';\n",
              "        await google.colab.output.renderOutput(dataTable, element);\n",
              "        const docLink = document.createElement('div');\n",
              "        docLink.innerHTML = docLinkHtml;\n",
              "        element.appendChild(docLink);\n",
              "      }\n",
              "    </script>\n",
              "  </div>\n",
              "\n",
              "\n",
              "<div id=\"df-7214981a-ecbb-4a37-83db-19b7134f7fc9\">\n",
              "  <button class=\"colab-df-quickchart\" onclick=\"quickchart('df-7214981a-ecbb-4a37-83db-19b7134f7fc9')\"\n",
              "            title=\"Suggest charts.\"\n",
              "            style=\"display:none;\">\n",
              "\n",
              "<svg xmlns=\"http://www.w3.org/2000/svg\" height=\"24px\"viewBox=\"0 0 24 24\"\n",
              "     width=\"24px\">\n",
              "    <g>\n",
              "        <path d=\"M19 3H5c-1.1 0-2 .9-2 2v14c0 1.1.9 2 2 2h14c1.1 0 2-.9 2-2V5c0-1.1-.9-2-2-2zM9 17H7v-7h2v7zm4 0h-2V7h2v10zm4 0h-2v-4h2v4z\"/>\n",
              "    </g>\n",
              "</svg>\n",
              "  </button>\n",
              "\n",
              "<style>\n",
              "  .colab-df-quickchart {\n",
              "      --bg-color: #E8F0FE;\n",
              "      --fill-color: #1967D2;\n",
              "      --hover-bg-color: #E2EBFA;\n",
              "      --hover-fill-color: #174EA6;\n",
              "      --disabled-fill-color: #AAA;\n",
              "      --disabled-bg-color: #DDD;\n",
              "  }\n",
              "\n",
              "  [theme=dark] .colab-df-quickchart {\n",
              "      --bg-color: #3B4455;\n",
              "      --fill-color: #D2E3FC;\n",
              "      --hover-bg-color: #434B5C;\n",
              "      --hover-fill-color: #FFFFFF;\n",
              "      --disabled-bg-color: #3B4455;\n",
              "      --disabled-fill-color: #666;\n",
              "  }\n",
              "\n",
              "  .colab-df-quickchart {\n",
              "    background-color: var(--bg-color);\n",
              "    border: none;\n",
              "    border-radius: 50%;\n",
              "    cursor: pointer;\n",
              "    display: none;\n",
              "    fill: var(--fill-color);\n",
              "    height: 32px;\n",
              "    padding: 0;\n",
              "    width: 32px;\n",
              "  }\n",
              "\n",
              "  .colab-df-quickchart:hover {\n",
              "    background-color: var(--hover-bg-color);\n",
              "    box-shadow: 0 1px 2px rgba(60, 64, 67, 0.3), 0 1px 3px 1px rgba(60, 64, 67, 0.15);\n",
              "    fill: var(--button-hover-fill-color);\n",
              "  }\n",
              "\n",
              "  .colab-df-quickchart-complete:disabled,\n",
              "  .colab-df-quickchart-complete:disabled:hover {\n",
              "    background-color: var(--disabled-bg-color);\n",
              "    fill: var(--disabled-fill-color);\n",
              "    box-shadow: none;\n",
              "  }\n",
              "\n",
              "  .colab-df-spinner {\n",
              "    border: 2px solid var(--fill-color);\n",
              "    border-color: transparent;\n",
              "    border-bottom-color: var(--fill-color);\n",
              "    animation:\n",
              "      spin 1s steps(1) infinite;\n",
              "  }\n",
              "\n",
              "  @keyframes spin {\n",
              "    0% {\n",
              "      border-color: transparent;\n",
              "      border-bottom-color: var(--fill-color);\n",
              "      border-left-color: var(--fill-color);\n",
              "    }\n",
              "    20% {\n",
              "      border-color: transparent;\n",
              "      border-left-color: var(--fill-color);\n",
              "      border-top-color: var(--fill-color);\n",
              "    }\n",
              "    30% {\n",
              "      border-color: transparent;\n",
              "      border-left-color: var(--fill-color);\n",
              "      border-top-color: var(--fill-color);\n",
              "      border-right-color: var(--fill-color);\n",
              "    }\n",
              "    40% {\n",
              "      border-color: transparent;\n",
              "      border-right-color: var(--fill-color);\n",
              "      border-top-color: var(--fill-color);\n",
              "    }\n",
              "    60% {\n",
              "      border-color: transparent;\n",
              "      border-right-color: var(--fill-color);\n",
              "    }\n",
              "    80% {\n",
              "      border-color: transparent;\n",
              "      border-right-color: var(--fill-color);\n",
              "      border-bottom-color: var(--fill-color);\n",
              "    }\n",
              "    90% {\n",
              "      border-color: transparent;\n",
              "      border-bottom-color: var(--fill-color);\n",
              "    }\n",
              "  }\n",
              "</style>\n",
              "\n",
              "  <script>\n",
              "    async function quickchart(key) {\n",
              "      const quickchartButtonEl =\n",
              "        document.querySelector('#' + key + ' button');\n",
              "      quickchartButtonEl.disabled = true;  // To prevent multiple clicks.\n",
              "      quickchartButtonEl.classList.add('colab-df-spinner');\n",
              "      try {\n",
              "        const charts = await google.colab.kernel.invokeFunction(\n",
              "            'suggestCharts', [key], {});\n",
              "      } catch (error) {\n",
              "        console.error('Error during call to suggestCharts:', error);\n",
              "      }\n",
              "      quickchartButtonEl.classList.remove('colab-df-spinner');\n",
              "      quickchartButtonEl.classList.add('colab-df-quickchart-complete');\n",
              "    }\n",
              "    (() => {\n",
              "      let quickchartButtonEl =\n",
              "        document.querySelector('#df-7214981a-ecbb-4a37-83db-19b7134f7fc9 button');\n",
              "      quickchartButtonEl.style.display =\n",
              "        google.colab.kernel.accessAllowed ? 'block' : 'none';\n",
              "    })();\n",
              "  </script>\n",
              "</div>\n",
              "    </div>\n",
              "  </div>\n"
            ]
          },
          "metadata": {},
          "execution_count": 19
        }
      ],
      "source": [
        "d.sample(3)"
      ]
    },
    {
      "cell_type": "code",
      "execution_count": 20,
      "metadata": {
        "colab": {
          "base_uri": "https://localhost:8080/"
        },
        "id": "4g1HxixWJe6a",
        "outputId": "5e3dde86-e1e7-457c-c3e1-5041f32f9a58"
      },
      "outputs": [
        {
          "output_type": "execute_result",
          "data": {
            "text/plain": [
              "Index(['index', 'transaction_id', 'product_id', 'customer_id',\n",
              "       'transaction_date', 'online_order', 'order_status', 'brand',\n",
              "       'product_line', 'product_class', 'product_size', 'list_price',\n",
              "       'standard_cost', 'product_first_sold_date', 'address', 'postcode',\n",
              "       'state', 'property_valuation', 'first_name', 'last_name', 'gender',\n",
              "       'past_3_years_bike_related_purchases', 'job_title',\n",
              "       'job_industry_category', 'wealth_segment', 'deceased_indicator',\n",
              "       'owns_car', 'tenure', 'age'],\n",
              "      dtype='object')"
            ]
          },
          "metadata": {},
          "execution_count": 20
        }
      ],
      "source": [
        "d.columns"
      ]
    },
    {
      "cell_type": "code",
      "execution_count": 21,
      "metadata": {
        "colab": {
          "base_uri": "https://localhost:8080/"
        },
        "id": "l-PG94XRLVYK",
        "outputId": "0252d893-fc70-441f-dbd7-7134ff732463"
      },
      "outputs": [
        {
          "output_type": "execute_result",
          "data": {
            "text/plain": [
              "index                                    0\n",
              "transaction_id                           0\n",
              "product_id                               0\n",
              "customer_id                              0\n",
              "online_order                           359\n",
              "list_price                               0\n",
              "standard_cost                          194\n",
              "postcode                                 0\n",
              "property_valuation                       0\n",
              "past_3_years_bike_related_purchases      0\n",
              "tenure                                 446\n",
              "age                                      0\n",
              "dtype: int64"
            ]
          },
          "metadata": {},
          "execution_count": 21
        }
      ],
      "source": [
        "num_features = d.select_dtypes(include = np.number)\n",
        "num_features.isna().sum()"
      ]
    },
    {
      "cell_type": "code",
      "execution_count": 22,
      "metadata": {
        "colab": {
          "base_uri": "https://localhost:8080/"
        },
        "id": "LNYHE3v0R8m3",
        "outputId": "60bbd305-f931-448d-f9d9-d7af7c050bc6"
      },
      "outputs": [
        {
          "output_type": "stream",
          "name": "stderr",
          "text": [
            "<ipython-input-22-c4e380e8b79c>:1: FutureWarning: DataFrame.mean and DataFrame.median with numeric_only=None will include datetime64 and datetime64tz columns in a future version.\n",
            "  d = d.fillna(d.median(axis=0), axis=0)\n",
            "<ipython-input-22-c4e380e8b79c>:1: FutureWarning: The default value of numeric_only in DataFrame.median is deprecated. In a future version, it will default to False. In addition, specifying 'numeric_only=None' is deprecated. Select only valid columns or specify the value of numeric_only to silence this warning.\n",
            "  d = d.fillna(d.median(axis=0), axis=0)\n"
          ]
        }
      ],
      "source": [
        "d = d.fillna(d.median(axis=0), axis=0)"
      ]
    },
    {
      "cell_type": "code",
      "execution_count": 23,
      "metadata": {
        "colab": {
          "base_uri": "https://localhost:8080/"
        },
        "id": "FcM5_arZf7wY",
        "outputId": "25f9c466-ff8d-4a46-e269-d91a6c7df062"
      },
      "outputs": [
        {
          "output_type": "execute_result",
          "data": {
            "text/plain": [
              "index                                     0\n",
              "transaction_id                            0\n",
              "product_id                                0\n",
              "customer_id                               0\n",
              "transaction_date                          0\n",
              "online_order                              0\n",
              "order_status                              0\n",
              "brand                                   194\n",
              "product_line                            194\n",
              "product_class                           194\n",
              "product_size                            194\n",
              "list_price                                0\n",
              "standard_cost                             0\n",
              "product_first_sold_date                 194\n",
              "address                                   0\n",
              "postcode                                  0\n",
              "state                                     0\n",
              "property_valuation                        0\n",
              "first_name                                0\n",
              "last_name                               642\n",
              "gender                                    0\n",
              "past_3_years_bike_related_purchases       0\n",
              "job_title                              2379\n",
              "job_industry_category                  3222\n",
              "wealth_segment                            0\n",
              "deceased_indicator                        0\n",
              "owns_car                                  0\n",
              "tenure                                    0\n",
              "age                                       0\n",
              "dtype: int64"
            ]
          },
          "metadata": {},
          "execution_count": 23
        }
      ],
      "source": [
        "d.isna().sum()"
      ]
    },
    {
      "cell_type": "code",
      "execution_count": 24,
      "metadata": {
        "colab": {
          "base_uri": "https://localhost:8080/"
        },
        "id": "98dOtoxkRTuW",
        "outputId": "9bb4c2c8-ef6a-44b9-ae25-bd197620a3ba"
      },
      "outputs": [
        {
          "output_type": "stream",
          "name": "stdout",
          "text": [
            "<class 'pandas.core.frame.DataFrame'>\n",
            "RangeIndex: 19959 entries, 0 to 19958\n",
            "Data columns (total 29 columns):\n",
            " #   Column                               Non-Null Count  Dtype         \n",
            "---  ------                               --------------  -----         \n",
            " 0   index                                19959 non-null  int64         \n",
            " 1   transaction_id                       19959 non-null  int64         \n",
            " 2   product_id                           19959 non-null  int64         \n",
            " 3   customer_id                          19959 non-null  int64         \n",
            " 4   transaction_date                     19959 non-null  datetime64[ns]\n",
            " 5   online_order                         19959 non-null  float64       \n",
            " 6   order_status                         19959 non-null  object        \n",
            " 7   brand                                19765 non-null  object        \n",
            " 8   product_line                         19765 non-null  object        \n",
            " 9   product_class                        19765 non-null  object        \n",
            " 10  product_size                         19765 non-null  object        \n",
            " 11  list_price                           19959 non-null  float64       \n",
            " 12  standard_cost                        19959 non-null  float64       \n",
            " 13  product_first_sold_date              19765 non-null  object        \n",
            " 14  address                              19959 non-null  object        \n",
            " 15  postcode                             19959 non-null  int64         \n",
            " 16  state                                19959 non-null  object        \n",
            " 17  property_valuation                   19959 non-null  int64         \n",
            " 18  first_name                           19959 non-null  object        \n",
            " 19  last_name                            19317 non-null  object        \n",
            " 20  gender                               19959 non-null  object        \n",
            " 21  past_3_years_bike_related_purchases  19959 non-null  int64         \n",
            " 22  job_title                            17580 non-null  object        \n",
            " 23  job_industry_category                16737 non-null  object        \n",
            " 24  wealth_segment                       19959 non-null  object        \n",
            " 25  deceased_indicator                   19959 non-null  object        \n",
            " 26  owns_car                             19959 non-null  object        \n",
            " 27  tenure                               19959 non-null  float64       \n",
            " 28  age                                  19959 non-null  int64         \n",
            "dtypes: datetime64[ns](1), float64(4), int64(8), object(16)\n",
            "memory usage: 4.4+ MB\n"
          ]
        }
      ],
      "source": [
        "d.info()"
      ]
    },
    {
      "cell_type": "code",
      "execution_count": 25,
      "metadata": {
        "id": "_ASkp3KVB8dO"
      },
      "outputs": [],
      "source": [
        "for el in num_features:\n",
        "    for n_type in (np.int32, np.int16, np.int8):\n",
        "        if (d[el] == d[el].astype(n_type)).sum() == len(d):\n",
        "            d[el] = d[el].astype(n_type)"
      ]
    },
    {
      "cell_type": "code",
      "source": [
        "# d['order_status'] = d['order_status'].map(lambda x: 1 if x == 'Approved' else 0)"
      ],
      "metadata": {
        "id": "6tvy4ivlFLPT"
      },
      "execution_count": 26,
      "outputs": []
    },
    {
      "cell_type": "code",
      "execution_count": 27,
      "metadata": {
        "id": "8QDrHpm1wOg5"
      },
      "outputs": [],
      "source": [
        "d1 = pd.DataFrame()\n",
        "d1['order_status'] = d['order_status']"
      ]
    },
    {
      "cell_type": "code",
      "execution_count": 28,
      "metadata": {
        "id": "1lDlWJsuwVr2"
      },
      "outputs": [],
      "source": [
        "d = d.drop(columns=['order_status'], axis=1)"
      ]
    },
    {
      "cell_type": "code",
      "execution_count": 29,
      "metadata": {
        "colab": {
          "base_uri": "https://localhost:8080/"
        },
        "id": "EEJnVWdosJgF",
        "outputId": "ba1e76da-88b9-4172-b01b-f6d5fe19202c"
      },
      "outputs": [
        {
          "output_type": "execute_result",
          "data": {
            "text/plain": [
              "Index(['brand', 'product_line', 'product_class', 'product_size',\n",
              "       'product_first_sold_date', 'address', 'state', 'first_name',\n",
              "       'last_name', 'gender', 'job_title', 'job_industry_category',\n",
              "       'wealth_segment', 'deceased_indicator', 'owns_car'],\n",
              "      dtype='object')"
            ]
          },
          "metadata": {},
          "execution_count": 29
        }
      ],
      "source": [
        "cat_feat = d.select_dtypes(include = 'object')\n",
        "cat_feat.columns"
      ]
    },
    {
      "cell_type": "code",
      "execution_count": 30,
      "metadata": {
        "id": "78wOdFS-voFX"
      },
      "outputs": [],
      "source": [
        "data_describe = d.describe(include=[object])\n",
        "for feature in cat_feat:\n",
        "    d[feature] = d[feature].fillna(data_describe[feature]['top'])\n"
      ]
    },
    {
      "cell_type": "code",
      "execution_count": 31,
      "metadata": {
        "id": "kuB-vON4woVS"
      },
      "outputs": [],
      "source": [
        "d['target'] = d1['order_status']"
      ]
    },
    {
      "cell_type": "code",
      "execution_count": 32,
      "metadata": {
        "colab": {
          "base_uri": "https://localhost:8080/"
        },
        "id": "9q1aE8ryVUAq",
        "outputId": "7453948e-120f-48d9-9909-c1c0a6d2d7f5"
      },
      "outputs": [
        {
          "output_type": "stream",
          "name": "stdout",
          "text": [
            "<class 'pandas.core.frame.DataFrame'>\n",
            "RangeIndex: 19959 entries, 0 to 19958\n",
            "Data columns (total 29 columns):\n",
            " #   Column                               Non-Null Count  Dtype         \n",
            "---  ------                               --------------  -----         \n",
            " 0   index                                19959 non-null  int16         \n",
            " 1   transaction_id                       19959 non-null  int16         \n",
            " 2   product_id                           19959 non-null  int8          \n",
            " 3   customer_id                          19959 non-null  int16         \n",
            " 4   transaction_date                     19959 non-null  datetime64[ns]\n",
            " 5   online_order                         19959 non-null  int8          \n",
            " 6   brand                                19959 non-null  object        \n",
            " 7   product_line                         19959 non-null  object        \n",
            " 8   product_class                        19959 non-null  object        \n",
            " 9   product_size                         19959 non-null  object        \n",
            " 10  list_price                           19959 non-null  float64       \n",
            " 11  standard_cost                        19959 non-null  float64       \n",
            " 12  product_first_sold_date              19959 non-null  object        \n",
            " 13  address                              19959 non-null  object        \n",
            " 14  postcode                             19959 non-null  int16         \n",
            " 15  state                                19959 non-null  object        \n",
            " 16  property_valuation                   19959 non-null  int8          \n",
            " 17  first_name                           19959 non-null  object        \n",
            " 18  last_name                            19959 non-null  object        \n",
            " 19  gender                               19959 non-null  object        \n",
            " 20  past_3_years_bike_related_purchases  19959 non-null  int8          \n",
            " 21  job_title                            19959 non-null  object        \n",
            " 22  job_industry_category                19959 non-null  object        \n",
            " 23  wealth_segment                       19959 non-null  object        \n",
            " 24  deceased_indicator                   19959 non-null  object        \n",
            " 25  owns_car                             19959 non-null  object        \n",
            " 26  tenure                               19959 non-null  int8          \n",
            " 27  age                                  19959 non-null  int64         \n",
            " 28  target                               19959 non-null  object        \n",
            "dtypes: datetime64[ns](1), float64(2), int16(4), int64(1), int8(5), object(16)\n",
            "memory usage: 3.3+ MB\n"
          ]
        }
      ],
      "source": [
        "d.info()"
      ]
    },
    {
      "cell_type": "code",
      "execution_count": 33,
      "metadata": {
        "id": "TWvna87Tew4P"
      },
      "outputs": [],
      "source": [
        "from sklearn.preprocessing import LabelEncoder\n"
      ]
    },
    {
      "cell_type": "code",
      "execution_count": 34,
      "metadata": {
        "id": "k27ipY16emi5"
      },
      "outputs": [],
      "source": [
        "for i in cat_feat:\n",
        "  lb = LabelEncoder()\n",
        "  d[i] = lb.fit_transform(d[i].astype(str))"
      ]
    },
    {
      "cell_type": "code",
      "execution_count": 35,
      "metadata": {
        "colab": {
          "base_uri": "https://localhost:8080/",
          "height": 161
        },
        "id": "zf_zDT7le36b",
        "outputId": "787b3ab2-5adf-4239-e648-6ebaaaf754ae"
      },
      "outputs": [
        {
          "output_type": "execute_result",
          "data": {
            "text/plain": [
              "      index  transaction_id  product_id  customer_id transaction_date  \\\n",
              "6747  17025           13235          87         2082       2017-08-19   \n",
              "6393   5082           13590          22         1731       2017-05-10   \n",
              "\n",
              "      online_order  brand  product_line  product_class  product_size  ...  \\\n",
              "6747             1      0             2              0             1  ...   \n",
              "6393             1      3             2              2             1  ...   \n",
              "\n",
              "      gender  past_3_years_bike_related_purchases  job_title  \\\n",
              "6747       0                                   38         97   \n",
              "6393       0                                   26         85   \n",
              "\n",
              "      job_industry_category  wealth_segment  deceased_indicator  owns_car  \\\n",
              "6747                      3               0                   0         1   \n",
              "6393                      3               1                   0         1   \n",
              "\n",
              "      tenure                  age    target  \n",
              "6747      19  1385811050985623040  Approved  \n",
              "6393      19  2040377450985623040  Approved  \n",
              "\n",
              "[2 rows x 29 columns]"
            ],
            "text/html": [
              "\n",
              "  <div id=\"df-f5ae0cc2-ddcf-49ab-b2bf-b9d82375a455\" class=\"colab-df-container\">\n",
              "    <div>\n",
              "<style scoped>\n",
              "    .dataframe tbody tr th:only-of-type {\n",
              "        vertical-align: middle;\n",
              "    }\n",
              "\n",
              "    .dataframe tbody tr th {\n",
              "        vertical-align: top;\n",
              "    }\n",
              "\n",
              "    .dataframe thead th {\n",
              "        text-align: right;\n",
              "    }\n",
              "</style>\n",
              "<table border=\"1\" class=\"dataframe\">\n",
              "  <thead>\n",
              "    <tr style=\"text-align: right;\">\n",
              "      <th></th>\n",
              "      <th>index</th>\n",
              "      <th>transaction_id</th>\n",
              "      <th>product_id</th>\n",
              "      <th>customer_id</th>\n",
              "      <th>transaction_date</th>\n",
              "      <th>online_order</th>\n",
              "      <th>brand</th>\n",
              "      <th>product_line</th>\n",
              "      <th>product_class</th>\n",
              "      <th>product_size</th>\n",
              "      <th>...</th>\n",
              "      <th>gender</th>\n",
              "      <th>past_3_years_bike_related_purchases</th>\n",
              "      <th>job_title</th>\n",
              "      <th>job_industry_category</th>\n",
              "      <th>wealth_segment</th>\n",
              "      <th>deceased_indicator</th>\n",
              "      <th>owns_car</th>\n",
              "      <th>tenure</th>\n",
              "      <th>age</th>\n",
              "      <th>target</th>\n",
              "    </tr>\n",
              "  </thead>\n",
              "  <tbody>\n",
              "    <tr>\n",
              "      <th>6747</th>\n",
              "      <td>17025</td>\n",
              "      <td>13235</td>\n",
              "      <td>87</td>\n",
              "      <td>2082</td>\n",
              "      <td>2017-08-19</td>\n",
              "      <td>1</td>\n",
              "      <td>0</td>\n",
              "      <td>2</td>\n",
              "      <td>0</td>\n",
              "      <td>1</td>\n",
              "      <td>...</td>\n",
              "      <td>0</td>\n",
              "      <td>38</td>\n",
              "      <td>97</td>\n",
              "      <td>3</td>\n",
              "      <td>0</td>\n",
              "      <td>0</td>\n",
              "      <td>1</td>\n",
              "      <td>19</td>\n",
              "      <td>1385811050985623040</td>\n",
              "      <td>Approved</td>\n",
              "    </tr>\n",
              "    <tr>\n",
              "      <th>6393</th>\n",
              "      <td>5082</td>\n",
              "      <td>13590</td>\n",
              "      <td>22</td>\n",
              "      <td>1731</td>\n",
              "      <td>2017-05-10</td>\n",
              "      <td>1</td>\n",
              "      <td>3</td>\n",
              "      <td>2</td>\n",
              "      <td>2</td>\n",
              "      <td>1</td>\n",
              "      <td>...</td>\n",
              "      <td>0</td>\n",
              "      <td>26</td>\n",
              "      <td>85</td>\n",
              "      <td>3</td>\n",
              "      <td>1</td>\n",
              "      <td>0</td>\n",
              "      <td>1</td>\n",
              "      <td>19</td>\n",
              "      <td>2040377450985623040</td>\n",
              "      <td>Approved</td>\n",
              "    </tr>\n",
              "  </tbody>\n",
              "</table>\n",
              "<p>2 rows × 29 columns</p>\n",
              "</div>\n",
              "    <div class=\"colab-df-buttons\">\n",
              "\n",
              "  <div class=\"colab-df-container\">\n",
              "    <button class=\"colab-df-convert\" onclick=\"convertToInteractive('df-f5ae0cc2-ddcf-49ab-b2bf-b9d82375a455')\"\n",
              "            title=\"Convert this dataframe to an interactive table.\"\n",
              "            style=\"display:none;\">\n",
              "\n",
              "  <svg xmlns=\"http://www.w3.org/2000/svg\" height=\"24px\" viewBox=\"0 -960 960 960\">\n",
              "    <path d=\"M120-120v-720h720v720H120Zm60-500h600v-160H180v160Zm220 220h160v-160H400v160Zm0 220h160v-160H400v160ZM180-400h160v-160H180v160Zm440 0h160v-160H620v160ZM180-180h160v-160H180v160Zm440 0h160v-160H620v160Z\"/>\n",
              "  </svg>\n",
              "    </button>\n",
              "\n",
              "  <style>\n",
              "    .colab-df-container {\n",
              "      display:flex;\n",
              "      gap: 12px;\n",
              "    }\n",
              "\n",
              "    .colab-df-convert {\n",
              "      background-color: #E8F0FE;\n",
              "      border: none;\n",
              "      border-radius: 50%;\n",
              "      cursor: pointer;\n",
              "      display: none;\n",
              "      fill: #1967D2;\n",
              "      height: 32px;\n",
              "      padding: 0 0 0 0;\n",
              "      width: 32px;\n",
              "    }\n",
              "\n",
              "    .colab-df-convert:hover {\n",
              "      background-color: #E2EBFA;\n",
              "      box-shadow: 0px 1px 2px rgba(60, 64, 67, 0.3), 0px 1px 3px 1px rgba(60, 64, 67, 0.15);\n",
              "      fill: #174EA6;\n",
              "    }\n",
              "\n",
              "    .colab-df-buttons div {\n",
              "      margin-bottom: 4px;\n",
              "    }\n",
              "\n",
              "    [theme=dark] .colab-df-convert {\n",
              "      background-color: #3B4455;\n",
              "      fill: #D2E3FC;\n",
              "    }\n",
              "\n",
              "    [theme=dark] .colab-df-convert:hover {\n",
              "      background-color: #434B5C;\n",
              "      box-shadow: 0px 1px 3px 1px rgba(0, 0, 0, 0.15);\n",
              "      filter: drop-shadow(0px 1px 2px rgba(0, 0, 0, 0.3));\n",
              "      fill: #FFFFFF;\n",
              "    }\n",
              "  </style>\n",
              "\n",
              "    <script>\n",
              "      const buttonEl =\n",
              "        document.querySelector('#df-f5ae0cc2-ddcf-49ab-b2bf-b9d82375a455 button.colab-df-convert');\n",
              "      buttonEl.style.display =\n",
              "        google.colab.kernel.accessAllowed ? 'block' : 'none';\n",
              "\n",
              "      async function convertToInteractive(key) {\n",
              "        const element = document.querySelector('#df-f5ae0cc2-ddcf-49ab-b2bf-b9d82375a455');\n",
              "        const dataTable =\n",
              "          await google.colab.kernel.invokeFunction('convertToInteractive',\n",
              "                                                    [key], {});\n",
              "        if (!dataTable) return;\n",
              "\n",
              "        const docLinkHtml = 'Like what you see? Visit the ' +\n",
              "          '<a target=\"_blank\" href=https://colab.research.google.com/notebooks/data_table.ipynb>data table notebook</a>'\n",
              "          + ' to learn more about interactive tables.';\n",
              "        element.innerHTML = '';\n",
              "        dataTable['output_type'] = 'display_data';\n",
              "        await google.colab.output.renderOutput(dataTable, element);\n",
              "        const docLink = document.createElement('div');\n",
              "        docLink.innerHTML = docLinkHtml;\n",
              "        element.appendChild(docLink);\n",
              "      }\n",
              "    </script>\n",
              "  </div>\n",
              "\n",
              "\n",
              "<div id=\"df-b1d8d42a-ef80-4fc3-94df-54aa127e93a8\">\n",
              "  <button class=\"colab-df-quickchart\" onclick=\"quickchart('df-b1d8d42a-ef80-4fc3-94df-54aa127e93a8')\"\n",
              "            title=\"Suggest charts.\"\n",
              "            style=\"display:none;\">\n",
              "\n",
              "<svg xmlns=\"http://www.w3.org/2000/svg\" height=\"24px\"viewBox=\"0 0 24 24\"\n",
              "     width=\"24px\">\n",
              "    <g>\n",
              "        <path d=\"M19 3H5c-1.1 0-2 .9-2 2v14c0 1.1.9 2 2 2h14c1.1 0 2-.9 2-2V5c0-1.1-.9-2-2-2zM9 17H7v-7h2v7zm4 0h-2V7h2v10zm4 0h-2v-4h2v4z\"/>\n",
              "    </g>\n",
              "</svg>\n",
              "  </button>\n",
              "\n",
              "<style>\n",
              "  .colab-df-quickchart {\n",
              "      --bg-color: #E8F0FE;\n",
              "      --fill-color: #1967D2;\n",
              "      --hover-bg-color: #E2EBFA;\n",
              "      --hover-fill-color: #174EA6;\n",
              "      --disabled-fill-color: #AAA;\n",
              "      --disabled-bg-color: #DDD;\n",
              "  }\n",
              "\n",
              "  [theme=dark] .colab-df-quickchart {\n",
              "      --bg-color: #3B4455;\n",
              "      --fill-color: #D2E3FC;\n",
              "      --hover-bg-color: #434B5C;\n",
              "      --hover-fill-color: #FFFFFF;\n",
              "      --disabled-bg-color: #3B4455;\n",
              "      --disabled-fill-color: #666;\n",
              "  }\n",
              "\n",
              "  .colab-df-quickchart {\n",
              "    background-color: var(--bg-color);\n",
              "    border: none;\n",
              "    border-radius: 50%;\n",
              "    cursor: pointer;\n",
              "    display: none;\n",
              "    fill: var(--fill-color);\n",
              "    height: 32px;\n",
              "    padding: 0;\n",
              "    width: 32px;\n",
              "  }\n",
              "\n",
              "  .colab-df-quickchart:hover {\n",
              "    background-color: var(--hover-bg-color);\n",
              "    box-shadow: 0 1px 2px rgba(60, 64, 67, 0.3), 0 1px 3px 1px rgba(60, 64, 67, 0.15);\n",
              "    fill: var(--button-hover-fill-color);\n",
              "  }\n",
              "\n",
              "  .colab-df-quickchart-complete:disabled,\n",
              "  .colab-df-quickchart-complete:disabled:hover {\n",
              "    background-color: var(--disabled-bg-color);\n",
              "    fill: var(--disabled-fill-color);\n",
              "    box-shadow: none;\n",
              "  }\n",
              "\n",
              "  .colab-df-spinner {\n",
              "    border: 2px solid var(--fill-color);\n",
              "    border-color: transparent;\n",
              "    border-bottom-color: var(--fill-color);\n",
              "    animation:\n",
              "      spin 1s steps(1) infinite;\n",
              "  }\n",
              "\n",
              "  @keyframes spin {\n",
              "    0% {\n",
              "      border-color: transparent;\n",
              "      border-bottom-color: var(--fill-color);\n",
              "      border-left-color: var(--fill-color);\n",
              "    }\n",
              "    20% {\n",
              "      border-color: transparent;\n",
              "      border-left-color: var(--fill-color);\n",
              "      border-top-color: var(--fill-color);\n",
              "    }\n",
              "    30% {\n",
              "      border-color: transparent;\n",
              "      border-left-color: var(--fill-color);\n",
              "      border-top-color: var(--fill-color);\n",
              "      border-right-color: var(--fill-color);\n",
              "    }\n",
              "    40% {\n",
              "      border-color: transparent;\n",
              "      border-right-color: var(--fill-color);\n",
              "      border-top-color: var(--fill-color);\n",
              "    }\n",
              "    60% {\n",
              "      border-color: transparent;\n",
              "      border-right-color: var(--fill-color);\n",
              "    }\n",
              "    80% {\n",
              "      border-color: transparent;\n",
              "      border-right-color: var(--fill-color);\n",
              "      border-bottom-color: var(--fill-color);\n",
              "    }\n",
              "    90% {\n",
              "      border-color: transparent;\n",
              "      border-bottom-color: var(--fill-color);\n",
              "    }\n",
              "  }\n",
              "</style>\n",
              "\n",
              "  <script>\n",
              "    async function quickchart(key) {\n",
              "      const quickchartButtonEl =\n",
              "        document.querySelector('#' + key + ' button');\n",
              "      quickchartButtonEl.disabled = true;  // To prevent multiple clicks.\n",
              "      quickchartButtonEl.classList.add('colab-df-spinner');\n",
              "      try {\n",
              "        const charts = await google.colab.kernel.invokeFunction(\n",
              "            'suggestCharts', [key], {});\n",
              "      } catch (error) {\n",
              "        console.error('Error during call to suggestCharts:', error);\n",
              "      }\n",
              "      quickchartButtonEl.classList.remove('colab-df-spinner');\n",
              "      quickchartButtonEl.classList.add('colab-df-quickchart-complete');\n",
              "    }\n",
              "    (() => {\n",
              "      let quickchartButtonEl =\n",
              "        document.querySelector('#df-b1d8d42a-ef80-4fc3-94df-54aa127e93a8 button');\n",
              "      quickchartButtonEl.style.display =\n",
              "        google.colab.kernel.accessAllowed ? 'block' : 'none';\n",
              "    })();\n",
              "  </script>\n",
              "</div>\n",
              "    </div>\n",
              "  </div>\n"
            ]
          },
          "metadata": {},
          "execution_count": 35
        }
      ],
      "source": [
        "d.sample(2)"
      ]
    },
    {
      "cell_type": "code",
      "execution_count": 36,
      "metadata": {
        "id": "qGiuvBr0d3BI"
      },
      "outputs": [],
      "source": [
        "d = d.drop(columns=['transaction_id', 'postcode', 'address', 'first_name', 'last_name',\n",
        "                     'product_id', 'standard_cost', 'product_first_sold_date', 'transaction_date', 'deceased_indicator', 'customer_id', 'index', 'list_price'], axis=1)"
      ]
    },
    {
      "cell_type": "code",
      "execution_count": 37,
      "metadata": {
        "colab": {
          "base_uri": "https://localhost:8080/",
          "height": 1000
        },
        "id": "kgyF0Fu9xrz_",
        "outputId": "97fb9435-1bea-4c65-bcde-54d6f80d7bb5"
      },
      "outputs": [
        {
          "output_type": "stream",
          "name": "stderr",
          "text": [
            "<ipython-input-37-30c82b709bf3>:2: FutureWarning: The default value of numeric_only in DataFrame.corr is deprecated. In a future version, it will default to False. Select only valid columns or specify the value of numeric_only to silence this warning.\n",
            "  sns.heatmap(d.corr(), annot = True, linewidths=.6, cmap = 'YlGnBu')\n"
          ]
        },
        {
          "output_type": "execute_result",
          "data": {
            "text/plain": [
              "<Axes: >"
            ]
          },
          "metadata": {},
          "execution_count": 37
        },
        {
          "output_type": "display_data",
          "data": {
            "text/plain": [
              "<Figure size 1500x800 with 2 Axes>"
            ],
            "image/png": "[encoded data removed]"
          },
          "metadata": {}
        }
      ],
      "source": [
        "plt.figure(figsize=(15,8))\n",
        "sns.heatmap(d.corr(), annot = True, linewidths=.6, cmap = 'YlGnBu')"
      ]
    },
    {
      "cell_type": "code",
      "execution_count": 38,
      "metadata": {
        "id": "wHly5_Hlrfo-"
      },
      "outputs": [],
      "source": [
        "from sklearn.model_selection import train_test_split"
      ]
    },
    {
      "cell_type": "code",
      "execution_count": 39,
      "metadata": {
        "id": "KMlDJDtYrfqk"
      },
      "outputs": [],
      "source": [
        "train_data, test_data = train_test_split(d, random_state=42, test_size=0.2)"
      ]
    },
    {
      "cell_type": "code",
      "execution_count": 40,
      "metadata": {
        "id": "V2E7d-AWsMPP"
      },
      "outputs": [],
      "source": [
        "X_train = train_data.drop(['target'], axis=1)\n",
        "y_train = train_data['target']"
      ]
    },
    {
      "cell_type": "code",
      "execution_count": 41,
      "metadata": {
        "id": "4Xp1L7Uron1H"
      },
      "outputs": [],
      "source": [
        "from imblearn.over_sampling import SMOTE\n",
        "smote = SMOTE(sampling_strategy='minority')\n",
        "X_train, y_train = smote.fit_resample(X_train, y_train)"
      ]
    },
    {
      "cell_type": "code",
      "source": [
        "y_train.value_counts()"
      ],
      "metadata": {
        "colab": {
          "base_uri": "https://localhost:8080/"
        },
        "id": "OxnFJnN67b1R",
        "outputId": "56d8ef07-e107-4fbd-bee5-1651fa63f5c0"
      },
      "execution_count": 42,
      "outputs": [
        {
          "output_type": "execute_result",
          "data": {
            "text/plain": [
              "Approved     15825\n",
              "Cancelled    15825\n",
              "Name: target, dtype: int64"
            ]
          },
          "metadata": {},
          "execution_count": 42
        }
      ]
    },
    {
      "cell_type": "code",
      "execution_count": 43,
      "metadata": {
        "id": "JRgq-PC7uf6F"
      },
      "outputs": [],
      "source": [
        "X_test = test_data.drop(['target'], axis=1)\n",
        "y_test = test_data['target']"
      ]
    },
    {
      "cell_type": "code",
      "execution_count": 44,
      "metadata": {
        "id": "YerCBLcmpeGB"
      },
      "outputs": [],
      "source": [
        "from sklearn.preprocessing import MinMaxScaler\n",
        "minmax = MinMaxScaler()\n",
        "scaled_minmax = minmax.fit_transform(X_train)\n",
        "X_train = pd.DataFrame(scaled_minmax, columns = X_train.columns)\n",
        "scaled_minmax = minmax.fit_transform(X_test)\n",
        "X_test = pd.DataFrame(scaled_minmax, columns = X_test.columns)"
      ]
    },
    {
      "cell_type": "code",
      "execution_count": 45,
      "metadata": {
        "colab": {
          "base_uri": "https://localhost:8080/",
          "height": 75
        },
        "id": "L_8AoO02rvZ1",
        "outputId": "9272f313-ba14-49bc-df84-9756d73e2493"
      },
      "outputs": [
        {
          "output_type": "execute_result",
          "data": {
            "text/plain": [
              "LogisticRegression()"
            ],
            "text/html": [
              "<style>#sk-container-id-1 {color: black;background-color: white;}#sk-container-id-1 pre{padding: 0;}#sk-container-id-1 div.sk-toggleable {background-color: white;}#sk-container-id-1 label.sk-toggleable__label {cursor: pointer;display: block;width: 100%;margin-bottom: 0;padding: 0.3em;box-sizing: border-box;text-align: center;}#sk-container-id-1 label.sk-toggleable__label-arrow:before {content: \"▸\";float: left;margin-right: 0.25em;color: #696969;}#sk-container-id-1 label.sk-toggleable__label-arrow:hover:before {color: black;}#sk-container-id-1 div.sk-estimator:hover label.sk-toggleable__label-arrow:before {color: black;}#sk-container-id-1 div.sk-toggleable__content {max-height: 0;max-width: 0;overflow: hidden;text-align: left;background-color: #f0f8ff;}#sk-container-id-1 div.sk-toggleable__content pre {margin: 0.2em;color: black;border-radius: 0.25em;background-color: #f0f8ff;}#sk-container-id-1 input.sk-toggleable__control:checked~div.sk-toggleable__content {max-height: 200px;max-width: 100%;overflow: auto;}#sk-container-id-1 input.sk-toggleable__control:checked~label.sk-toggleable__label-arrow:before {content: \"▾\";}#sk-container-id-1 div.sk-estimator input.sk-toggleable__control:checked~label.sk-toggleable__label {background-color: #d4ebff;}#sk-container-id-1 div.sk-label input.sk-toggleable__control:checked~label.sk-toggleable__label {background-color: #d4ebff;}#sk-container-id-1 input.sk-hidden--visually {border: 0;clip: rect(1px 1px 1px 1px);clip: rect(1px, 1px, 1px, 1px);height: 1px;margin: -1px;overflow: hidden;padding: 0;position: absolute;width: 1px;}#sk-container-id-1 div.sk-estimator {font-family: monospace;background-color: #f0f8ff;border: 1px dotted black;border-radius: 0.25em;box-sizing: border-box;margin-bottom: 0.5em;}#sk-container-id-1 div.sk-estimator:hover {background-color: #d4ebff;}#sk-container-id-1 div.sk-parallel-item::after {content: \"\";width: 100%;border-bottom: 1px solid gray;flex-grow: 1;}#sk-container-id-1 div.sk-label:hover label.sk-toggleable__label {background-color: #d4ebff;}#sk-container-id-1 div.sk-serial::before {content: \"\";position: absolute;border-left: 1px solid gray;box-sizing: border-box;top: 0;bottom: 0;left: 50%;z-index: 0;}#sk-container-id-1 div.sk-serial {display: flex;flex-direction: column;align-items: center;background-color: white;padding-right: 0.2em;padding-left: 0.2em;position: relative;}#sk-container-id-1 div.sk-item {position: relative;z-index: 1;}#sk-container-id-1 div.sk-parallel {display: flex;align-items: stretch;justify-content: center;background-color: white;position: relative;}#sk-container-id-1 div.sk-item::before, #sk-container-id-1 div.sk-parallel-item::before {content: \"\";position: absolute;border-left: 1px solid gray;box-sizing: border-box;top: 0;bottom: 0;left: 50%;z-index: -1;}#sk-container-id-1 div.sk-parallel-item {display: flex;flex-direction: column;z-index: 1;position: relative;background-color: white;}#sk-container-id-1 div.sk-parallel-item:first-child::after {align-self: flex-end;width: 50%;}#sk-container-id-1 div.sk-parallel-item:last-child::after {align-self: flex-start;width: 50%;}#sk-container-id-1 div.sk-parallel-item:only-child::after {width: 0;}#sk-container-id-1 div.sk-dashed-wrapped {border: 1px dashed gray;margin: 0 0.4em 0.5em 0.4em;box-sizing: border-box;padding-bottom: 0.4em;background-color: white;}#sk-container-id-1 div.sk-label label {font-family: monospace;font-weight: bold;display: inline-block;line-height: 1.2em;}#sk-container-id-1 div.sk-label-container {text-align: center;}#sk-container-id-1 div.sk-container {/* jupyter's `normalize.less` sets `[hidden] { display: none; }` but bootstrap.min.css set `[hidden] { display: none !important; }` so we also need the `!important` here to be able to override the default hidden behavior on the sphinx rendered scikit-learn.org. See: https://github.com/scikit-learn/scikit-learn/issues/21755 */display: inline-block !important;position: relative;}#sk-container-id-1 div.sk-text-repr-fallback {display: none;}</style><div id=\"sk-container-id-1\" class=\"sk-top-container\"><div class=\"sk-text-repr-fallback\"><pre>LogisticRegression()</pre><b>In a Jupyter environment, please rerun this cell to show the HTML representation or trust the notebook. <br />On GitHub, the HTML representation is unable to render, please try loading this page with nbviewer.org.</b></div><div class=\"sk-container\" hidden><div class=\"sk-item\"><div class=\"sk-estimator sk-toggleable\"><input class=\"sk-toggleable__control sk-hidden--visually\" id=\"sk-estimator-id-1\" type=\"checkbox\" checked><label for=\"sk-estimator-id-1\" class=\"sk-toggleable__label sk-toggleable__label-arrow\">LogisticRegression</label><div class=\"sk-toggleable__content\"><pre>LogisticRegression()</pre></div></div></div></div></div>"
            ]
          },
          "metadata": {},
          "execution_count": 45
        }
      ],
      "source": [
        "lr =LogisticRegression()\n",
        "lr.fit(X_train, y_train)"
      ]
    },
    {
      "cell_type": "code",
      "source": [
        "rfecv = RFECV(estimator=lr, step=1, cv=8)"
      ],
      "metadata": {
        "id": "_FilHD2n4aEU"
      },
      "execution_count": 46,
      "outputs": []
    },
    {
      "cell_type": "code",
      "source": [
        "rfecv.fit(X_train, y_train)\n",
        "rfecv.support_\n",
        "print(pd.DataFrame(rfecv.support_,columns=['result']))"
      ],
      "metadata": {
        "colab": {
          "base_uri": "https://localhost:8080/"
        },
        "id": "dT1bzicM8L4T",
        "outputId": "43a117d8-9c5b-4598-98cb-e625e2cd88b1"
      },
      "execution_count": 47,
      "outputs": [
        {
          "output_type": "stream",
          "name": "stdout",
          "text": [
            "    result\n",
            "0     True\n",
            "1     True\n",
            "2     True\n",
            "3     True\n",
            "4     True\n",
            "5     True\n",
            "6     True\n",
            "7     True\n",
            "8     True\n",
            "9     True\n",
            "10    True\n",
            "11    True\n",
            "12    True\n",
            "13    True\n",
            "14    True\n"
          ]
        }
      ]
    },
    {
      "cell_type": "code",
      "execution_count": 48,
      "metadata": {
        "id": "hXPVLXlYo-Pm"
      },
      "outputs": [],
      "source": [
        "predict = lr.predict(X_test)"
      ]
    },
    {
      "cell_type": "code",
      "execution_count": 49,
      "metadata": {
        "colab": {
          "base_uri": "https://localhost:8080/"
        },
        "id": "HKTWb2qOpIwG",
        "outputId": "0d733a31-42f9-4cdc-f6a0-2df8f1204de3"
      },
      "outputs": [
        {
          "output_type": "execute_result",
          "data": {
            "text/plain": [
              "array([0.05001218, 0.11874489, 0.88703874, ..., 0.64145734, 0.13965834,\n",
              "       0.66228068])"
            ]
          },
          "metadata": {},
          "execution_count": 49
        }
      ],
      "source": [
        "predict_proba = lr.predict_proba(X_test)[:, 1]\n",
        "predict_proba"
      ]
    },
    {
      "cell_type": "code",
      "execution_count": 50,
      "metadata": {
        "colab": {
          "base_uri": "https://localhost:8080/"
        },
        "id": "5yTzaWw8pQFG",
        "outputId": "05704e2e-0d60-4667-dc6e-83ee6702c718"
      },
      "outputs": [
        {
          "output_type": "execute_result",
          "data": {
            "text/plain": [
              "{'f1': 0.014736842105263158,\n",
              " 'recall': 0.19444444444444445,\n",
              " 'precision': 0.007658643326039387,\n",
              " 'ROC_AUC': 0.5118736658802382}"
            ]
          },
          "metadata": {},
          "execution_count": 50
        }
      ],
      "source": [
        "metrics = {\n",
        "    \"f1\": f1_score(y_test, predict, pos_label='Cancelled'),\n",
        "    \"recall\": recall_score(y_test, predict, pos_label='Cancelled'),\n",
        "    \"precision\": precision_score(y_test, predict, pos_label='Cancelled'),\n",
        "    \"ROC_AUC\" :roc_auc_score(y_test, predict_proba)}\n",
        "metrics"
      ]
    },
    {
      "cell_type": "code",
      "execution_count": 51,
      "metadata": {
        "colab": {
          "base_uri": "https://localhost:8080/"
        },
        "id": "Tcc25iwMqAPp",
        "outputId": "53540029-fe2a-434c-8574-2b41349f7023"
      },
      "outputs": [
        {
          "output_type": "stream",
          "name": "stdout",
          "text": [
            "              precision    recall  f1-score   support\n",
            "\n",
            "    Approved       0.99      0.77      0.87      3956\n",
            "   Cancelled       0.01      0.19      0.01        36\n",
            "\n",
            "    accuracy                           0.77      3992\n",
            "   macro avg       0.50      0.48      0.44      3992\n",
            "weighted avg       0.98      0.77      0.86      3992\n",
            "\n"
          ]
        }
      ],
      "source": [
        "print(classification_report(y_test, predict))"
      ]
    }
  ],
  "metadata": {
    "colab": {
      "provenance": []
    },
    "kernelspec": {
      "display_name": "Python 3",
      "name": "python3"
    },
    "language_info": {
      "name": "python"
    }
  },
  "nbformat": 4,
  "nbformat_minor": 0
}
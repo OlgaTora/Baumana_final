{
  "cells": [
    {
      "cell_type": "code",
      "execution_count": null,
      "metadata": {
        "id": "26xGIcDfGfOk"
      },
      "outputs": [],
      "source": [
        "import pandas as pd\n",
        "import numpy as np\n",
        "import seaborn as sns\n",
        "import plotly.express as px\n",
        "import matplotlib.pyplot as plt"
      ]
    },
    {
      "cell_type": "code",
      "execution_count": null,
      "metadata": {
        "id": "iL88EmCvcBo0"
      },
      "outputs": [],
      "source": [
        "d = pd.read_excel('/content/DM_Sales.xls')"
      ]
    },
    {
      "cell_type": "code",
      "execution_count": null,
      "metadata": {
        "colab": {
          "base_uri": "https://localhost:8080/",
          "height": 377
        },
        "id": "MOsLoYMMdZ-h",
        "outputId": "4eade05f-ffe1-473e-d0bc-321f409c8985"
      },
      "outputs": [
        {
          "output_type": "execute_result",
          "data": {
            "text/plain": [
              "       index  transaction_id  product_id  customer_id     transaction_date  \\\n",
              "6513    5802           13470          90         3093  2017-10-23 00:00:00   \n",
              "14287    103            5681          32         2717  2017-11-19 00:00:00   \n",
              "8517   13557           11462          88         2007  2017-08-08 00:00:00   \n",
              "6580    6706           13403          51         2372  2017-09-04 00:00:00   \n",
              "12709  18485            7260           9         2315  2017-02-06 00:00:00   \n",
              "\n",
              "       online_order order_status           brand product_line product_class  \\\n",
              "6513            1.0     Approved           Solex     Standard           low   \n",
              "14287           1.0     Approved  Giant Bicycles     Standard        medium   \n",
              "8517            1.0     Approved  Norco Bicycles     Standard        medium   \n",
              "6580            0.0     Approved      OHM Cycles     Standard          high   \n",
              "12709           1.0     Approved      OHM Cycles         Road        medium   \n",
              "\n",
              "       ...     last_name  gender  past_3_years_bike_related_purchases  \\\n",
              "6513   ...        Crimes    Male                                   31   \n",
              "14287  ...        McGown    Male                                   31   \n",
              "8517   ...  Scarrisbrick    Male                                    8   \n",
              "6580   ...       Shoppee    Male                                   14   \n",
              "12709  ...     MacCheyne    Male                                   25   \n",
              "\n",
              "                           job_title job_industry_category     wealth_segment  \\\n",
              "6513     Mechanical Systems Engineer              Property     High Net Worth   \n",
              "14287               Registered Nurse                Health      Mass Customer   \n",
              "8517                    Programmer I         Manufacturing      Mass Customer   \n",
              "6580             Clinical Specialist                Health  Affluent Customer   \n",
              "12709  Community Outreach Specialist    Financial Services  Affluent Customer   \n",
              "\n",
              "      deceased_indicator  owns_car tenure                  age  \n",
              "6513                   N       Yes    6.0   997097450985623040  \n",
              "14287                  N        No   13.0  1344857450985623040  \n",
              "8517                   N       Yes   15.0  1690371050985623040  \n",
              "6580                   N        No   10.0  1456486250985623040  \n",
              "12709                  N        No    8.0   936703850985623040  \n",
              "\n",
              "[5 rows x 29 columns]"
            ],
            "text/html": [
              "\n",
              "  <div id=\"df-4ab9a2dd-ef0e-44d7-977d-3d1d84a5a35d\" class=\"colab-df-container\">\n",
              "    <div>\n",
              "<style scoped>\n",
              "    .dataframe tbody tr th:only-of-type {\n",
              "        vertical-align: middle;\n",
              "    }\n",
              "\n",
              "    .dataframe tbody tr th {\n",
              "        vertical-align: top;\n",
              "    }\n",
              "\n",
              "    .dataframe thead th {\n",
              "        text-align: right;\n",
              "    }\n",
              "</style>\n",
              "<table border=\"1\" class=\"dataframe\">\n",
              "  <thead>\n",
              "    <tr style=\"text-align: right;\">\n",
              "      <th></th>\n",
              "      <th>index</th>\n",
              "      <th>transaction_id</th>\n",
              "      <th>product_id</th>\n",
              "      <th>customer_id</th>\n",
              "      <th>transaction_date</th>\n",
              "      <th>online_order</th>\n",
              "      <th>order_status</th>\n",
              "      <th>brand</th>\n",
              "      <th>product_line</th>\n",
              "      <th>product_class</th>\n",
              "      <th>...</th>\n",
              "      <th>last_name</th>\n",
              "      <th>gender</th>\n",
              "      <th>past_3_years_bike_related_purchases</th>\n",
              "      <th>job_title</th>\n",
              "      <th>job_industry_category</th>\n",
              "      <th>wealth_segment</th>\n",
              "      <th>deceased_indicator</th>\n",
              "      <th>owns_car</th>\n",
              "      <th>tenure</th>\n",
              "      <th>age</th>\n",
              "    </tr>\n",
              "  </thead>\n",
              "  <tbody>\n",
              "    <tr>\n",
              "      <th>6513</th>\n",
              "      <td>5802</td>\n",
              "      <td>13470</td>\n",
              "      <td>90</td>\n",
              "      <td>3093</td>\n",
              "      <td>2017-10-23 00:00:00</td>\n",
              "      <td>1.0</td>\n",
              "      <td>Approved</td>\n",
              "      <td>Solex</td>\n",
              "      <td>Standard</td>\n",
              "      <td>low</td>\n",
              "      <td>...</td>\n",
              "      <td>Crimes</td>\n",
              "      <td>Male</td>\n",
              "      <td>31</td>\n",
              "      <td>Mechanical Systems Engineer</td>\n",
              "      <td>Property</td>\n",
              "      <td>High Net Worth</td>\n",
              "      <td>N</td>\n",
              "      <td>Yes</td>\n",
              "      <td>6.0</td>\n",
              "      <td>997097450985623040</td>\n",
              "    </tr>\n",
              "    <tr>\n",
              "      <th>14287</th>\n",
              "      <td>103</td>\n",
              "      <td>5681</td>\n",
              "      <td>32</td>\n",
              "      <td>2717</td>\n",
              "      <td>2017-11-19 00:00:00</td>\n",
              "      <td>1.0</td>\n",
              "      <td>Approved</td>\n",
              "      <td>Giant Bicycles</td>\n",
              "      <td>Standard</td>\n",
              "      <td>medium</td>\n",
              "      <td>...</td>\n",
              "      <td>McGown</td>\n",
              "      <td>Male</td>\n",
              "      <td>31</td>\n",
              "      <td>Registered Nurse</td>\n",
              "      <td>Health</td>\n",
              "      <td>Mass Customer</td>\n",
              "      <td>N</td>\n",
              "      <td>No</td>\n",
              "      <td>13.0</td>\n",
              "      <td>1344857450985623040</td>\n",
              "    </tr>\n",
              "    <tr>\n",
              "      <th>8517</th>\n",
              "      <td>13557</td>\n",
              "      <td>11462</td>\n",
              "      <td>88</td>\n",
              "      <td>2007</td>\n",
              "      <td>2017-08-08 00:00:00</td>\n",
              "      <td>1.0</td>\n",
              "      <td>Approved</td>\n",
              "      <td>Norco Bicycles</td>\n",
              "      <td>Standard</td>\n",
              "      <td>medium</td>\n",
              "      <td>...</td>\n",
              "      <td>Scarrisbrick</td>\n",
              "      <td>Male</td>\n",
              "      <td>8</td>\n",
              "      <td>Programmer I</td>\n",
              "      <td>Manufacturing</td>\n",
              "      <td>Mass Customer</td>\n",
              "      <td>N</td>\n",
              "      <td>Yes</td>\n",
              "      <td>15.0</td>\n",
              "      <td>1690371050985623040</td>\n",
              "    </tr>\n",
              "    <tr>\n",
              "      <th>6580</th>\n",
              "      <td>6706</td>\n",
              "      <td>13403</td>\n",
              "      <td>51</td>\n",
              "      <td>2372</td>\n",
              "      <td>2017-09-04 00:00:00</td>\n",
              "      <td>0.0</td>\n",
              "      <td>Approved</td>\n",
              "      <td>OHM Cycles</td>\n",
              "      <td>Standard</td>\n",
              "      <td>high</td>\n",
              "      <td>...</td>\n",
              "      <td>Shoppee</td>\n",
              "      <td>Male</td>\n",
              "      <td>14</td>\n",
              "      <td>Clinical Specialist</td>\n",
              "      <td>Health</td>\n",
              "      <td>Affluent Customer</td>\n",
              "      <td>N</td>\n",
              "      <td>No</td>\n",
              "      <td>10.0</td>\n",
              "      <td>1456486250985623040</td>\n",
              "    </tr>\n",
              "    <tr>\n",
              "      <th>12709</th>\n",
              "      <td>18485</td>\n",
              "      <td>7260</td>\n",
              "      <td>9</td>\n",
              "      <td>2315</td>\n",
              "      <td>2017-02-06 00:00:00</td>\n",
              "      <td>1.0</td>\n",
              "      <td>Approved</td>\n",
              "      <td>OHM Cycles</td>\n",
              "      <td>Road</td>\n",
              "      <td>medium</td>\n",
              "      <td>...</td>\n",
              "      <td>MacCheyne</td>\n",
              "      <td>Male</td>\n",
              "      <td>25</td>\n",
              "      <td>Community Outreach Specialist</td>\n",
              "      <td>Financial Services</td>\n",
              "      <td>Affluent Customer</td>\n",
              "      <td>N</td>\n",
              "      <td>No</td>\n",
              "      <td>8.0</td>\n",
              "      <td>936703850985623040</td>\n",
              "    </tr>\n",
              "  </tbody>\n",
              "</table>\n",
              "<p>5 rows × 29 columns</p>\n",
              "</div>\n",
              "    <div class=\"colab-df-buttons\">\n",
              "\n",
              "  <div class=\"colab-df-container\">\n",
              "    <button class=\"colab-df-convert\" onclick=\"convertToInteractive('df-4ab9a2dd-ef0e-44d7-977d-3d1d84a5a35d')\"\n",
              "            title=\"Convert this dataframe to an interactive table.\"\n",
              "            style=\"display:none;\">\n",
              "\n",
              "  <svg xmlns=\"http://www.w3.org/2000/svg\" height=\"24px\" viewBox=\"0 -960 960 960\">\n",
              "    <path d=\"M120-120v-720h720v720H120Zm60-500h600v-160H180v160Zm220 220h160v-160H400v160Zm0 220h160v-160H400v160ZM180-400h160v-160H180v160Zm440 0h160v-160H620v160ZM180-180h160v-160H180v160Zm440 0h160v-160H620v160Z\"/>\n",
              "  </svg>\n",
              "    </button>\n",
              "\n",
              "  <style>\n",
              "    .colab-df-container {\n",
              "      display:flex;\n",
              "      gap: 12px;\n",
              "    }\n",
              "\n",
              "    .colab-df-convert {\n",
              "      background-color: #E8F0FE;\n",
              "      border: none;\n",
              "      border-radius: 50%;\n",
              "      cursor: pointer;\n",
              "      display: none;\n",
              "      fill: #1967D2;\n",
              "      height: 32px;\n",
              "      padding: 0 0 0 0;\n",
              "      width: 32px;\n",
              "    }\n",
              "\n",
              "    .colab-df-convert:hover {\n",
              "      background-color: #E2EBFA;\n",
              "      box-shadow: 0px 1px 2px rgba(60, 64, 67, 0.3), 0px 1px 3px 1px rgba(60, 64, 67, 0.15);\n",
              "      fill: #174EA6;\n",
              "    }\n",
              "\n",
              "    .colab-df-buttons div {\n",
              "      margin-bottom: 4px;\n",
              "    }\n",
              "\n",
              "    [theme=dark] .colab-df-convert {\n",
              "      background-color: #3B4455;\n",
              "      fill: #D2E3FC;\n",
              "    }\n",
              "\n",
              "    [theme=dark] .colab-df-convert:hover {\n",
              "      background-color: #434B5C;\n",
              "      box-shadow: 0px 1px 3px 1px rgba(0, 0, 0, 0.15);\n",
              "      filter: drop-shadow(0px 1px 2px rgba(0, 0, 0, 0.3));\n",
              "      fill: #FFFFFF;\n",
              "    }\n",
              "  </style>\n",
              "\n",
              "    <script>\n",
              "      const buttonEl =\n",
              "        document.querySelector('#df-4ab9a2dd-ef0e-44d7-977d-3d1d84a5a35d button.colab-df-convert');\n",
              "      buttonEl.style.display =\n",
              "        google.colab.kernel.accessAllowed ? 'block' : 'none';\n",
              "\n",
              "      async function convertToInteractive(key) {\n",
              "        const element = document.querySelector('#df-4ab9a2dd-ef0e-44d7-977d-3d1d84a5a35d');\n",
              "        const dataTable =\n",
              "          await google.colab.kernel.invokeFunction('convertToInteractive',\n",
              "                                                    [key], {});\n",
              "        if (!dataTable) return;\n",
              "\n",
              "        const docLinkHtml = 'Like what you see? Visit the ' +\n",
              "          '<a target=\"_blank\" href=https://colab.research.google.com/notebooks/data_table.ipynb>data table notebook</a>'\n",
              "          + ' to learn more about interactive tables.';\n",
              "        element.innerHTML = '';\n",
              "        dataTable['output_type'] = 'display_data';\n",
              "        await google.colab.output.renderOutput(dataTable, element);\n",
              "        const docLink = document.createElement('div');\n",
              "        docLink.innerHTML = docLinkHtml;\n",
              "        element.appendChild(docLink);\n",
              "      }\n",
              "    </script>\n",
              "  </div>\n",
              "\n",
              "\n",
              "<div id=\"df-62fc3965-711c-41b1-b38b-6b41ce557921\">\n",
              "  <button class=\"colab-df-quickchart\" onclick=\"quickchart('df-62fc3965-711c-41b1-b38b-6b41ce557921')\"\n",
              "            title=\"Suggest charts.\"\n",
              "            style=\"display:none;\">\n",
              "\n",
              "<svg xmlns=\"http://www.w3.org/2000/svg\" height=\"24px\"viewBox=\"0 0 24 24\"\n",
              "     width=\"24px\">\n",
              "    <g>\n",
              "        <path d=\"M19 3H5c-1.1 0-2 .9-2 2v14c0 1.1.9 2 2 2h14c1.1 0 2-.9 2-2V5c0-1.1-.9-2-2-2zM9 17H7v-7h2v7zm4 0h-2V7h2v10zm4 0h-2v-4h2v4z\"/>\n",
              "    </g>\n",
              "</svg>\n",
              "  </button>\n",
              "\n",
              "<style>\n",
              "  .colab-df-quickchart {\n",
              "      --bg-color: #E8F0FE;\n",
              "      --fill-color: #1967D2;\n",
              "      --hover-bg-color: #E2EBFA;\n",
              "      --hover-fill-color: #174EA6;\n",
              "      --disabled-fill-color: #AAA;\n",
              "      --disabled-bg-color: #DDD;\n",
              "  }\n",
              "\n",
              "  [theme=dark] .colab-df-quickchart {\n",
              "      --bg-color: #3B4455;\n",
              "      --fill-color: #D2E3FC;\n",
              "      --hover-bg-color: #434B5C;\n",
              "      --hover-fill-color: #FFFFFF;\n",
              "      --disabled-bg-color: #3B4455;\n",
              "      --disabled-fill-color: #666;\n",
              "  }\n",
              "\n",
              "  .colab-df-quickchart {\n",
              "    background-color: var(--bg-color);\n",
              "    border: none;\n",
              "    border-radius: 50%;\n",
              "    cursor: pointer;\n",
              "    display: none;\n",
              "    fill: var(--fill-color);\n",
              "    height: 32px;\n",
              "    padding: 0;\n",
              "    width: 32px;\n",
              "  }\n",
              "\n",
              "  .colab-df-quickchart:hover {\n",
              "    background-color: var(--hover-bg-color);\n",
              "    box-shadow: 0 1px 2px rgba(60, 64, 67, 0.3), 0 1px 3px 1px rgba(60, 64, 67, 0.15);\n",
              "    fill: var(--button-hover-fill-color);\n",
              "  }\n",
              "\n",
              "  .colab-df-quickchart-complete:disabled,\n",
              "  .colab-df-quickchart-complete:disabled:hover {\n",
              "    background-color: var(--disabled-bg-color);\n",
              "    fill: var(--disabled-fill-color);\n",
              "    box-shadow: none;\n",
              "  }\n",
              "\n",
              "  .colab-df-spinner {\n",
              "    border: 2px solid var(--fill-color);\n",
              "    border-color: transparent;\n",
              "    border-bottom-color: var(--fill-color);\n",
              "    animation:\n",
              "      spin 1s steps(1) infinite;\n",
              "  }\n",
              "\n",
              "  @keyframes spin {\n",
              "    0% {\n",
              "      border-color: transparent;\n",
              "      border-bottom-color: var(--fill-color);\n",
              "      border-left-color: var(--fill-color);\n",
              "    }\n",
              "    20% {\n",
              "      border-color: transparent;\n",
              "      border-left-color: var(--fill-color);\n",
              "      border-top-color: var(--fill-color);\n",
              "    }\n",
              "    30% {\n",
              "      border-color: transparent;\n",
              "      border-left-color: var(--fill-color);\n",
              "      border-top-color: var(--fill-color);\n",
              "      border-right-color: var(--fill-color);\n",
              "    }\n",
              "    40% {\n",
              "      border-color: transparent;\n",
              "      border-right-color: var(--fill-color);\n",
              "      border-top-color: var(--fill-color);\n",
              "    }\n",
              "    60% {\n",
              "      border-color: transparent;\n",
              "      border-right-color: var(--fill-color);\n",
              "    }\n",
              "    80% {\n",
              "      border-color: transparent;\n",
              "      border-right-color: var(--fill-color);\n",
              "      border-bottom-color: var(--fill-color);\n",
              "    }\n",
              "    90% {\n",
              "      border-color: transparent;\n",
              "      border-bottom-color: var(--fill-color);\n",
              "    }\n",
              "  }\n",
              "</style>\n",
              "\n",
              "  <script>\n",
              "    async function quickchart(key) {\n",
              "      const quickchartButtonEl =\n",
              "        document.querySelector('#' + key + ' button');\n",
              "      quickchartButtonEl.disabled = true;  // To prevent multiple clicks.\n",
              "      quickchartButtonEl.classList.add('colab-df-spinner');\n",
              "      try {\n",
              "        const charts = await google.colab.kernel.invokeFunction(\n",
              "            'suggestCharts', [key], {});\n",
              "      } catch (error) {\n",
              "        console.error('Error during call to suggestCharts:', error);\n",
              "      }\n",
              "      quickchartButtonEl.classList.remove('colab-df-spinner');\n",
              "      quickchartButtonEl.classList.add('colab-df-quickchart-complete');\n",
              "    }\n",
              "    (() => {\n",
              "      let quickchartButtonEl =\n",
              "        document.querySelector('#df-62fc3965-711c-41b1-b38b-6b41ce557921 button');\n",
              "      quickchartButtonEl.style.display =\n",
              "        google.colab.kernel.accessAllowed ? 'block' : 'none';\n",
              "    })();\n",
              "  </script>\n",
              "</div>\n",
              "    </div>\n",
              "  </div>\n"
            ]
          },
          "metadata": {},
          "execution_count": 3
        }
      ],
      "source": [
        "d.sample(5)"
      ]
    },
    {
      "cell_type": "markdown",
      "source": [],
      "metadata": {
        "id": "H699RkUFuRTK"
      }
    },
    {
      "cell_type": "code",
      "execution_count": null,
      "metadata": {
        "colab": {
          "base_uri": "https://localhost:8080/"
        },
        "id": "tAQMXIuUDOvB",
        "outputId": "2b37737a-46ca-4cd1-ee69-0564f6cf0aea"
      },
      "outputs": [
        {
          "output_type": "execute_result",
          "data": {
            "text/plain": [
              "index                                     0\n",
              "transaction_id                            0\n",
              "product_id                                0\n",
              "customer_id                               0\n",
              "transaction_date                          0\n",
              "online_order                            359\n",
              "order_status                              0\n",
              "brand                                   194\n",
              "product_line                            194\n",
              "product_class                           194\n",
              "product_size                            194\n",
              "list_price                                0\n",
              "standard_cost                           194\n",
              "product_first_sold_date                 194\n",
              "address                                   0\n",
              "postcode                                  0\n",
              "state                                     0\n",
              "property_valuation                        0\n",
              "first_name                                0\n",
              "last_name                               642\n",
              "gender                                    0\n",
              "past_3_years_bike_related_purchases       0\n",
              "job_title                              2379\n",
              "job_industry_category                  3222\n",
              "wealth_segment                            0\n",
              "deceased_indicator                        0\n",
              "owns_car                                  0\n",
              "tenure                                  446\n",
              "age                                       0\n",
              "dtype: int64"
            ]
          },
          "metadata": {},
          "execution_count": 4
        }
      ],
      "source": [
        "d.isna().sum()"
      ]
    },
    {
      "cell_type": "code",
      "execution_count": null,
      "metadata": {
        "colab": {
          "base_uri": "https://localhost:8080/"
        },
        "id": "D_ca3nNGDc4m",
        "outputId": "41355cc1-6dc1-41b9-c447-7609889e5a77"
      },
      "outputs": [
        {
          "output_type": "execute_result",
          "data": {
            "text/plain": [
              "index                                  19959\n",
              "transaction_id                         19959\n",
              "product_id                               101\n",
              "customer_id                             3488\n",
              "transaction_date                         364\n",
              "online_order                               2\n",
              "order_status                               2\n",
              "brand                                      6\n",
              "product_line                               4\n",
              "product_class                              3\n",
              "product_size                               3\n",
              "list_price                               293\n",
              "standard_cost                            100\n",
              "product_first_sold_date                  100\n",
              "address                                 3486\n",
              "postcode                                 835\n",
              "state                                      5\n",
              "property_valuation                        12\n",
              "first_name                              2834\n",
              "last_name                               3262\n",
              "gender                                     3\n",
              "past_3_years_bike_related_purchases      100\n",
              "job_title                                195\n",
              "job_industry_category                      9\n",
              "wealth_segment                             3\n",
              "deceased_indicator                         2\n",
              "owns_car                                   2\n",
              "tenure                                    22\n",
              "age                                     3046\n",
              "dtype: int64"
            ]
          },
          "metadata": {},
          "execution_count": 5
        }
      ],
      "source": [
        "d.nunique()"
      ]
    },
    {
      "cell_type": "code",
      "execution_count": null,
      "metadata": {
        "colab": {
          "base_uri": "https://localhost:8080/"
        },
        "id": "EGzz5P3Ygkde",
        "outputId": "c2e1fd32-502e-41e5-de7c-bf00722be28e"
      },
      "outputs": [
        {
          "output_type": "stream",
          "name": "stdout",
          "text": [
            "<class 'pandas.core.frame.DataFrame'>\n",
            "RangeIndex: 19959 entries, 0 to 19958\n",
            "Data columns (total 29 columns):\n",
            " #   Column                               Non-Null Count  Dtype  \n",
            "---  ------                               --------------  -----  \n",
            " 0   index                                19959 non-null  int64  \n",
            " 1   transaction_id                       19959 non-null  int64  \n",
            " 2   product_id                           19959 non-null  int64  \n",
            " 3   customer_id                          19959 non-null  int64  \n",
            " 4   transaction_date                     19959 non-null  object \n",
            " 5   online_order                         19600 non-null  float64\n",
            " 6   order_status                         19959 non-null  object \n",
            " 7   brand                                19765 non-null  object \n",
            " 8   product_line                         19765 non-null  object \n",
            " 9   product_class                        19765 non-null  object \n",
            " 10  product_size                         19765 non-null  object \n",
            " 11  list_price                           19959 non-null  float64\n",
            " 12  standard_cost                        19765 non-null  float64\n",
            " 13  product_first_sold_date              19765 non-null  object \n",
            " 14  address                              19959 non-null  object \n",
            " 15  postcode                             19959 non-null  int64  \n",
            " 16  state                                19959 non-null  object \n",
            " 17  property_valuation                   19959 non-null  int64  \n",
            " 18  first_name                           19959 non-null  object \n",
            " 19  last_name                            19317 non-null  object \n",
            " 20  gender                               19959 non-null  object \n",
            " 21  past_3_years_bike_related_purchases  19959 non-null  int64  \n",
            " 22  job_title                            17580 non-null  object \n",
            " 23  job_industry_category                16737 non-null  object \n",
            " 24  wealth_segment                       19959 non-null  object \n",
            " 25  deceased_indicator                   19959 non-null  object \n",
            " 26  owns_car                             19959 non-null  object \n",
            " 27  tenure                               19513 non-null  float64\n",
            " 28  age                                  19959 non-null  int64  \n",
            "dtypes: float64(4), int64(8), object(17)\n",
            "memory usage: 4.4+ MB\n"
          ]
        }
      ],
      "source": [
        "d.info()"
      ]
    },
    {
      "cell_type": "code",
      "execution_count": null,
      "metadata": {
        "colab": {
          "base_uri": "https://localhost:8080/"
        },
        "id": "XelCaX5-gkgS",
        "outputId": "97120fe6-afce-442b-c273-3aa105fdc193"
      },
      "outputs": [
        {
          "output_type": "execute_result",
          "data": {
            "text/plain": [
              "Yes    10042\n",
              "No      9917\n",
              "Name: owns_car, dtype: int64"
            ]
          },
          "metadata": {},
          "execution_count": 7
        }
      ],
      "source": [
        "d.owns_car.value_counts()"
      ]
    },
    {
      "cell_type": "code",
      "execution_count": null,
      "metadata": {
        "colab": {
          "base_uri": "https://localhost:8080/"
        },
        "id": "AV7EJxtngkiv",
        "outputId": "04cebe30-83df-49c1-f843-8334f39bfc65"
      },
      "outputs": [
        {
          "output_type": "execute_result",
          "data": {
            "text/plain": [
              "Approved     19781\n",
              "Cancelled      178\n",
              "Name: order_status, dtype: int64"
            ]
          },
          "metadata": {},
          "execution_count": 8
        }
      ],
      "source": [
        "d.order_status.value_counts()"
      ]
    },
    {
      "cell_type": "code",
      "execution_count": null,
      "metadata": {
        "colab": {
          "base_uri": "https://localhost:8080/"
        },
        "id": "dJIxeXEIgklQ",
        "outputId": "821a1e84-2f68-400c-a27c-fe294f0fb849"
      },
      "outputs": [
        {
          "output_type": "execute_result",
          "data": {
            "text/plain": [
              "1.0    9815\n",
              "0.0    9785\n",
              "Name: online_order, dtype: int64"
            ]
          },
          "metadata": {},
          "execution_count": 9
        }
      ],
      "source": [
        "d.online_order.value_counts()"
      ]
    },
    {
      "cell_type": "code",
      "execution_count": null,
      "metadata": {
        "colab": {
          "base_uri": "https://localhost:8080/"
        },
        "id": "_f9zl78rDleg",
        "outputId": "80c3fc33-61e1-4340-e799-1b2b3495a6bd"
      },
      "outputs": [
        {
          "output_type": "execute_result",
          "data": {
            "text/plain": [
              "Female     9997\n",
              "Male       9516\n",
              "Unknown     446\n",
              "Name: gender, dtype: int64"
            ]
          },
          "metadata": {},
          "execution_count": 10
        }
      ],
      "source": [
        "d.gender.value_counts()"
      ]
    },
    {
      "cell_type": "code",
      "execution_count": null,
      "metadata": {
        "id": "PasBIbmwD2Lp"
      },
      "outputs": [],
      "source": [
        "d.gender = d.gender.replace('F', 'Female')\n",
        "d.gender = d.gender.replace('Femal', 'Female')\n",
        "d.gender = d.gender.replace('M', 'Male')\n",
        "d.gender = d.gender.replace('U', 'Unknown')"
      ]
    },
    {
      "cell_type": "code",
      "execution_count": null,
      "metadata": {
        "colab": {
          "base_uri": "https://localhost:8080/"
        },
        "id": "lAQY8QpteURj",
        "outputId": "2f1afbba-52c8-49e8-b591-09e8f75f67c9"
      },
      "outputs": [
        {
          "output_type": "execute_result",
          "data": {
            "text/plain": [
              "Female     9997\n",
              "Male       9516\n",
              "Unknown     446\n",
              "Name: gender, dtype: int64"
            ]
          },
          "metadata": {},
          "execution_count": 12
        }
      ],
      "source": [
        "d.gender.value_counts()"
      ]
    },
    {
      "cell_type": "code",
      "execution_count": null,
      "metadata": {
        "colab": {
          "base_uri": "https://localhost:8080/"
        },
        "id": "fttg0kqIhn1f",
        "outputId": "c225b124-b254-4cfd-aba4-910e8d006972"
      },
      "outputs": [
        {
          "output_type": "execute_result",
          "data": {
            "text/plain": [
              "N    19951\n",
              "Y        8\n",
              "Name: deceased_indicator, dtype: int64"
            ]
          },
          "metadata": {},
          "execution_count": 13
        }
      ],
      "source": [
        "d.deceased_indicator.value_counts()"
      ]
    },
    {
      "cell_type": "code",
      "execution_count": null,
      "metadata": {
        "colab": {
          "base_uri": "https://localhost:8080/"
        },
        "id": "L_clMfoUBsjt",
        "outputId": "af0ac114-0d96-4bf9-b277-2ec8a052a40c"
      },
      "outputs": [
        {
          "output_type": "execute_result",
          "data": {
            "text/plain": [
              "1.0    9815\n",
              "0.0    9785\n",
              "Name: online_order, dtype: int64"
            ]
          },
          "metadata": {},
          "execution_count": 14
        }
      ],
      "source": [
        "d.online_order.value_counts()"
      ]
    },
    {
      "cell_type": "code",
      "execution_count": null,
      "metadata": {
        "colab": {
          "base_uri": "https://localhost:8080/"
        },
        "id": "X0_XPI1IWDm-",
        "outputId": "99dd63c6-06de-4fc0-d102-6d99de36e7d5"
      },
      "outputs": [
        {
          "output_type": "execute_result",
          "data": {
            "text/plain": [
              "0        2017-09-22 00:00:00\n",
              "1        2017-07-03 00:00:00\n",
              "2        2017-04-14 00:00:00\n",
              "3        2017-11-09 00:00:00\n",
              "4        2017-06-24 00:00:00\n",
              "                ...         \n",
              "19954    2017-10-01 00:00:00\n",
              "19955    2017-08-31 00:00:00\n",
              "19956    2017-10-16 00:00:00\n",
              "19957    2017-05-21 00:00:00\n",
              "19958    2017-02-25 00:00:00\n",
              "Name: transaction_date, Length: 19959, dtype: object"
            ]
          },
          "metadata": {},
          "execution_count": 15
        }
      ],
      "source": [
        "d.transaction_date"
      ]
    },
    {
      "cell_type": "code",
      "execution_count": null,
      "metadata": {
        "id": "v8kGHNBRN25o"
      },
      "outputs": [],
      "source": [
        "d[\"transaction_date\"] = pd.to_datetime(d[\"transaction_date\"])\n"
      ]
    },
    {
      "cell_type": "code",
      "execution_count": null,
      "metadata": {
        "colab": {
          "base_uri": "https://localhost:8080/"
        },
        "id": "3WQk1tIINf2N",
        "outputId": "2406f1fa-f967-48e0-9df9-d2b50b8841b0"
      },
      "outputs": [
        {
          "output_type": "execute_result",
          "data": {
            "text/plain": [
              "0        1999-06-25 00:00:00\n",
              "1        2004-08-19 00:00:00\n",
              "2        2010-08-22 00:00:00\n",
              "3        1997-05-12 00:00:00\n",
              "4        2003-07-23 00:00:00\n",
              "                ...         \n",
              "19954    2015-08-12 00:00:00\n",
              "19955    1998-12-18 00:00:00\n",
              "19956    1999-07-22 00:00:00\n",
              "19957    2014-03-05 00:00:00\n",
              "19958    2012-12-04 00:00:00\n",
              "Name: product_first_sold_date, Length: 19959, dtype: object"
            ]
          },
          "metadata": {},
          "execution_count": 17
        }
      ],
      "source": [
        "d['product_first_sold_date'].mode()\n",
        "d.product_first_sold_date"
      ]
    },
    {
      "cell_type": "code",
      "execution_count": null,
      "metadata": {
        "id": "kqr_Nh-3NgWg"
      },
      "outputs": [],
      "source": [
        "d['owns_car'] = d['owns_car'].map(lambda x: 1 if x == 'Yes' else 0)\n",
        "d['deceased_indicator'] = d['deceased_indicator'].map(lambda x: 1 if x == 'Y' else 0)"
      ]
    },
    {
      "cell_type": "code",
      "execution_count": null,
      "metadata": {
        "colab": {
          "base_uri": "https://localhost:8080/",
          "height": 280
        },
        "id": "fiF34ms3NgX3",
        "outputId": "b3b8b4ac-acca-427c-d4eb-91a94d09ca1f"
      },
      "outputs": [
        {
          "output_type": "execute_result",
          "data": {
            "text/plain": [
              "       index  transaction_id  product_id  customer_id transaction_date  \\\n",
              "7219    9062           12762          70         2019       2017-05-07   \n",
              "10437  19336            9538          23         3385       2017-11-06   \n",
              "15620  14530            4345          47         2937       2017-06-12   \n",
              "\n",
              "       online_order order_status           brand product_line product_class  \\\n",
              "7219            1.0     Approved  Norco Bicycles         Road        medium   \n",
              "10437           0.0     Approved  Norco Bicycles     Mountain           low   \n",
              "15620           1.0     Approved   Trek Bicycles         Road           low   \n",
              "\n",
              "       ...  last_name  gender  past_3_years_bike_related_purchases  \\\n",
              "7219   ...     Perkis  Female                                   48   \n",
              "10437  ...        NaN  Female                                   23   \n",
              "15620  ...  Mitchener  Female                                   47   \n",
              "\n",
              "                        job_title job_industry_category  wealth_segment  \\\n",
              "7219                 VP Marketing         Entertainment  High Net Worth   \n",
              "10437   Systems Administrator III           Argiculture   Mass Customer   \n",
              "15620  Computer Systems Analyst I    Financial Services   Mass Customer   \n",
              "\n",
              "      deceased_indicator  owns_car tenure                  age  \n",
              "7219                   0         0   17.0  2213609450985623040  \n",
              "10437                  0         0    9.0  1537961450985623040  \n",
              "15620                  0         0   15.0  1554895850985623040  \n",
              "\n",
              "[3 rows x 29 columns]"
            ],
            "text/html": [
              "\n",
              "  <div id=\"df-00cd7659-e25b-4e54-9169-9ceaeaf9b986\" class=\"colab-df-container\">\n",
              "    <div>\n",
              "<style scoped>\n",
              "    .dataframe tbody tr th:only-of-type {\n",
              "        vertical-align: middle;\n",
              "    }\n",
              "\n",
              "    .dataframe tbody tr th {\n",
              "        vertical-align: top;\n",
              "    }\n",
              "\n",
              "    .dataframe thead th {\n",
              "        text-align: right;\n",
              "    }\n",
              "</style>\n",
              "<table border=\"1\" class=\"dataframe\">\n",
              "  <thead>\n",
              "    <tr style=\"text-align: right;\">\n",
              "      <th></th>\n",
              "      <th>index</th>\n",
              "      <th>transaction_id</th>\n",
              "      <th>product_id</th>\n",
              "      <th>customer_id</th>\n",
              "      <th>transaction_date</th>\n",
              "      <th>online_order</th>\n",
              "      <th>order_status</th>\n",
              "      <th>brand</th>\n",
              "      <th>product_line</th>\n",
              "      <th>product_class</th>\n",
              "      <th>...</th>\n",
              "      <th>last_name</th>\n",
              "      <th>gender</th>\n",
              "      <th>past_3_years_bike_related_purchases</th>\n",
              "      <th>job_title</th>\n",
              "      <th>job_industry_category</th>\n",
              "      <th>wealth_segment</th>\n",
              "      <th>deceased_indicator</th>\n",
              "      <th>owns_car</th>\n",
              "      <th>tenure</th>\n",
              "      <th>age</th>\n",
              "    </tr>\n",
              "  </thead>\n",
              "  <tbody>\n",
              "    <tr>\n",
              "      <th>7219</th>\n",
              "      <td>9062</td>\n",
              "      <td>12762</td>\n",
              "      <td>70</td>\n",
              "      <td>2019</td>\n",
              "      <td>2017-05-07</td>\n",
              "      <td>1.0</td>\n",
              "      <td>Approved</td>\n",
              "      <td>Norco Bicycles</td>\n",
              "      <td>Road</td>\n",
              "      <td>medium</td>\n",
              "      <td>...</td>\n",
              "      <td>Perkis</td>\n",
              "      <td>Female</td>\n",
              "      <td>48</td>\n",
              "      <td>VP Marketing</td>\n",
              "      <td>Entertainment</td>\n",
              "      <td>High Net Worth</td>\n",
              "      <td>0</td>\n",
              "      <td>0</td>\n",
              "      <td>17.0</td>\n",
              "      <td>2213609450985623040</td>\n",
              "    </tr>\n",
              "    <tr>\n",
              "      <th>10437</th>\n",
              "      <td>19336</td>\n",
              "      <td>9538</td>\n",
              "      <td>23</td>\n",
              "      <td>3385</td>\n",
              "      <td>2017-11-06</td>\n",
              "      <td>0.0</td>\n",
              "      <td>Approved</td>\n",
              "      <td>Norco Bicycles</td>\n",
              "      <td>Mountain</td>\n",
              "      <td>low</td>\n",
              "      <td>...</td>\n",
              "      <td>NaN</td>\n",
              "      <td>Female</td>\n",
              "      <td>23</td>\n",
              "      <td>Systems Administrator III</td>\n",
              "      <td>Argiculture</td>\n",
              "      <td>Mass Customer</td>\n",
              "      <td>0</td>\n",
              "      <td>0</td>\n",
              "      <td>9.0</td>\n",
              "      <td>1537961450985623040</td>\n",
              "    </tr>\n",
              "    <tr>\n",
              "      <th>15620</th>\n",
              "      <td>14530</td>\n",
              "      <td>4345</td>\n",
              "      <td>47</td>\n",
              "      <td>2937</td>\n",
              "      <td>2017-06-12</td>\n",
              "      <td>1.0</td>\n",
              "      <td>Approved</td>\n",
              "      <td>Trek Bicycles</td>\n",
              "      <td>Road</td>\n",
              "      <td>low</td>\n",
              "      <td>...</td>\n",
              "      <td>Mitchener</td>\n",
              "      <td>Female</td>\n",
              "      <td>47</td>\n",
              "      <td>Computer Systems Analyst I</td>\n",
              "      <td>Financial Services</td>\n",
              "      <td>Mass Customer</td>\n",
              "      <td>0</td>\n",
              "      <td>0</td>\n",
              "      <td>15.0</td>\n",
              "      <td>1554895850985623040</td>\n",
              "    </tr>\n",
              "  </tbody>\n",
              "</table>\n",
              "<p>3 rows × 29 columns</p>\n",
              "</div>\n",
              "    <div class=\"colab-df-buttons\">\n",
              "\n",
              "  <div class=\"colab-df-container\">\n",
              "    <button class=\"colab-df-convert\" onclick=\"convertToInteractive('df-00cd7659-e25b-4e54-9169-9ceaeaf9b986')\"\n",
              "            title=\"Convert this dataframe to an interactive table.\"\n",
              "            style=\"display:none;\">\n",
              "\n",
              "  <svg xmlns=\"http://www.w3.org/2000/svg\" height=\"24px\" viewBox=\"0 -960 960 960\">\n",
              "    <path d=\"M120-120v-720h720v720H120Zm60-500h600v-160H180v160Zm220 220h160v-160H400v160Zm0 220h160v-160H400v160ZM180-400h160v-160H180v160Zm440 0h160v-160H620v160ZM180-180h160v-160H180v160Zm440 0h160v-160H620v160Z\"/>\n",
              "  </svg>\n",
              "    </button>\n",
              "\n",
              "  <style>\n",
              "    .colab-df-container {\n",
              "      display:flex;\n",
              "      gap: 12px;\n",
              "    }\n",
              "\n",
              "    .colab-df-convert {\n",
              "      background-color: #E8F0FE;\n",
              "      border: none;\n",
              "      border-radius: 50%;\n",
              "      cursor: pointer;\n",
              "      display: none;\n",
              "      fill: #1967D2;\n",
              "      height: 32px;\n",
              "      padding: 0 0 0 0;\n",
              "      width: 32px;\n",
              "    }\n",
              "\n",
              "    .colab-df-convert:hover {\n",
              "      background-color: #E2EBFA;\n",
              "      box-shadow: 0px 1px 2px rgba(60, 64, 67, 0.3), 0px 1px 3px 1px rgba(60, 64, 67, 0.15);\n",
              "      fill: #174EA6;\n",
              "    }\n",
              "\n",
              "    .colab-df-buttons div {\n",
              "      margin-bottom: 4px;\n",
              "    }\n",
              "\n",
              "    [theme=dark] .colab-df-convert {\n",
              "      background-color: #3B4455;\n",
              "      fill: #D2E3FC;\n",
              "    }\n",
              "\n",
              "    [theme=dark] .colab-df-convert:hover {\n",
              "      background-color: #434B5C;\n",
              "      box-shadow: 0px 1px 3px 1px rgba(0, 0, 0, 0.15);\n",
              "      filter: drop-shadow(0px 1px 2px rgba(0, 0, 0, 0.3));\n",
              "      fill: #FFFFFF;\n",
              "    }\n",
              "  </style>\n",
              "\n",
              "    <script>\n",
              "      const buttonEl =\n",
              "        document.querySelector('#df-00cd7659-e25b-4e54-9169-9ceaeaf9b986 button.colab-df-convert');\n",
              "      buttonEl.style.display =\n",
              "        google.colab.kernel.accessAllowed ? 'block' : 'none';\n",
              "\n",
              "      async function convertToInteractive(key) {\n",
              "        const element = document.querySelector('#df-00cd7659-e25b-4e54-9169-9ceaeaf9b986');\n",
              "        const dataTable =\n",
              "          await google.colab.kernel.invokeFunction('convertToInteractive',\n",
              "                                                    [key], {});\n",
              "        if (!dataTable) return;\n",
              "\n",
              "        const docLinkHtml = 'Like what you see? Visit the ' +\n",
              "          '<a target=\"_blank\" href=https://colab.research.google.com/notebooks/data_table.ipynb>data table notebook</a>'\n",
              "          + ' to learn more about interactive tables.';\n",
              "        element.innerHTML = '';\n",
              "        dataTable['output_type'] = 'display_data';\n",
              "        await google.colab.output.renderOutput(dataTable, element);\n",
              "        const docLink = document.createElement('div');\n",
              "        docLink.innerHTML = docLinkHtml;\n",
              "        element.appendChild(docLink);\n",
              "      }\n",
              "    </script>\n",
              "  </div>\n",
              "\n",
              "\n",
              "<div id=\"df-775b3c86-8034-4c5e-9c07-ce94326f8fa6\">\n",
              "  <button class=\"colab-df-quickchart\" onclick=\"quickchart('df-775b3c86-8034-4c5e-9c07-ce94326f8fa6')\"\n",
              "            title=\"Suggest charts.\"\n",
              "            style=\"display:none;\">\n",
              "\n",
              "<svg xmlns=\"http://www.w3.org/2000/svg\" height=\"24px\"viewBox=\"0 0 24 24\"\n",
              "     width=\"24px\">\n",
              "    <g>\n",
              "        <path d=\"M19 3H5c-1.1 0-2 .9-2 2v14c0 1.1.9 2 2 2h14c1.1 0 2-.9 2-2V5c0-1.1-.9-2-2-2zM9 17H7v-7h2v7zm4 0h-2V7h2v10zm4 0h-2v-4h2v4z\"/>\n",
              "    </g>\n",
              "</svg>\n",
              "  </button>\n",
              "\n",
              "<style>\n",
              "  .colab-df-quickchart {\n",
              "      --bg-color: #E8F0FE;\n",
              "      --fill-color: #1967D2;\n",
              "      --hover-bg-color: #E2EBFA;\n",
              "      --hover-fill-color: #174EA6;\n",
              "      --disabled-fill-color: #AAA;\n",
              "      --disabled-bg-color: #DDD;\n",
              "  }\n",
              "\n",
              "  [theme=dark] .colab-df-quickchart {\n",
              "      --bg-color: #3B4455;\n",
              "      --fill-color: #D2E3FC;\n",
              "      --hover-bg-color: #434B5C;\n",
              "      --hover-fill-color: #FFFFFF;\n",
              "      --disabled-bg-color: #3B4455;\n",
              "      --disabled-fill-color: #666;\n",
              "  }\n",
              "\n",
              "  .colab-df-quickchart {\n",
              "    background-color: var(--bg-color);\n",
              "    border: none;\n",
              "    border-radius: 50%;\n",
              "    cursor: pointer;\n",
              "    display: none;\n",
              "    fill: var(--fill-color);\n",
              "    height: 32px;\n",
              "    padding: 0;\n",
              "    width: 32px;\n",
              "  }\n",
              "\n",
              "  .colab-df-quickchart:hover {\n",
              "    background-color: var(--hover-bg-color);\n",
              "    box-shadow: 0 1px 2px rgba(60, 64, 67, 0.3), 0 1px 3px 1px rgba(60, 64, 67, 0.15);\n",
              "    fill: var(--button-hover-fill-color);\n",
              "  }\n",
              "\n",
              "  .colab-df-quickchart-complete:disabled,\n",
              "  .colab-df-quickchart-complete:disabled:hover {\n",
              "    background-color: var(--disabled-bg-color);\n",
              "    fill: var(--disabled-fill-color);\n",
              "    box-shadow: none;\n",
              "  }\n",
              "\n",
              "  .colab-df-spinner {\n",
              "    border: 2px solid var(--fill-color);\n",
              "    border-color: transparent;\n",
              "    border-bottom-color: var(--fill-color);\n",
              "    animation:\n",
              "      spin 1s steps(1) infinite;\n",
              "  }\n",
              "\n",
              "  @keyframes spin {\n",
              "    0% {\n",
              "      border-color: transparent;\n",
              "      border-bottom-color: var(--fill-color);\n",
              "      border-left-color: var(--fill-color);\n",
              "    }\n",
              "    20% {\n",
              "      border-color: transparent;\n",
              "      border-left-color: var(--fill-color);\n",
              "      border-top-color: var(--fill-color);\n",
              "    }\n",
              "    30% {\n",
              "      border-color: transparent;\n",
              "      border-left-color: var(--fill-color);\n",
              "      border-top-color: var(--fill-color);\n",
              "      border-right-color: var(--fill-color);\n",
              "    }\n",
              "    40% {\n",
              "      border-color: transparent;\n",
              "      border-right-color: var(--fill-color);\n",
              "      border-top-color: var(--fill-color);\n",
              "    }\n",
              "    60% {\n",
              "      border-color: transparent;\n",
              "      border-right-color: var(--fill-color);\n",
              "    }\n",
              "    80% {\n",
              "      border-color: transparent;\n",
              "      border-right-color: var(--fill-color);\n",
              "      border-bottom-color: var(--fill-color);\n",
              "    }\n",
              "    90% {\n",
              "      border-color: transparent;\n",
              "      border-bottom-color: var(--fill-color);\n",
              "    }\n",
              "  }\n",
              "</style>\n",
              "\n",
              "  <script>\n",
              "    async function quickchart(key) {\n",
              "      const quickchartButtonEl =\n",
              "        document.querySelector('#' + key + ' button');\n",
              "      quickchartButtonEl.disabled = true;  // To prevent multiple clicks.\n",
              "      quickchartButtonEl.classList.add('colab-df-spinner');\n",
              "      try {\n",
              "        const charts = await google.colab.kernel.invokeFunction(\n",
              "            'suggestCharts', [key], {});\n",
              "      } catch (error) {\n",
              "        console.error('Error during call to suggestCharts:', error);\n",
              "      }\n",
              "      quickchartButtonEl.classList.remove('colab-df-spinner');\n",
              "      quickchartButtonEl.classList.add('colab-df-quickchart-complete');\n",
              "    }\n",
              "    (() => {\n",
              "      let quickchartButtonEl =\n",
              "        document.querySelector('#df-775b3c86-8034-4c5e-9c07-ce94326f8fa6 button');\n",
              "      quickchartButtonEl.style.display =\n",
              "        google.colab.kernel.accessAllowed ? 'block' : 'none';\n",
              "    })();\n",
              "  </script>\n",
              "</div>\n",
              "    </div>\n",
              "  </div>\n"
            ]
          },
          "metadata": {},
          "execution_count": 19
        }
      ],
      "source": [
        "d.sample(3)"
      ]
    },
    {
      "cell_type": "code",
      "execution_count": null,
      "metadata": {
        "colab": {
          "base_uri": "https://localhost:8080/"
        },
        "id": "4g1HxixWJe6a",
        "outputId": "f6c45227-912d-4937-dd8b-e7addf2e22f0"
      },
      "outputs": [
        {
          "output_type": "execute_result",
          "data": {
            "text/plain": [
              "Index(['index', 'transaction_id', 'product_id', 'customer_id',\n",
              "       'transaction_date', 'online_order', 'order_status', 'brand',\n",
              "       'product_line', 'product_class', 'product_size', 'list_price',\n",
              "       'standard_cost', 'product_first_sold_date', 'address', 'postcode',\n",
              "       'state', 'property_valuation', 'first_name', 'last_name', 'gender',\n",
              "       'past_3_years_bike_related_purchases', 'job_title',\n",
              "       'job_industry_category', 'wealth_segment', 'deceased_indicator',\n",
              "       'owns_car', 'tenure', 'age'],\n",
              "      dtype='object')"
            ]
          },
          "metadata": {},
          "execution_count": 20
        }
      ],
      "source": [
        "d.columns"
      ]
    },
    {
      "cell_type": "code",
      "execution_count": null,
      "metadata": {
        "colab": {
          "base_uri": "https://localhost:8080/"
        },
        "id": "l-PG94XRLVYK",
        "outputId": "69960e0b-b740-48c0-f6b3-873a4e402e27"
      },
      "outputs": [
        {
          "output_type": "execute_result",
          "data": {
            "text/plain": [
              "index                                    0\n",
              "transaction_id                           0\n",
              "product_id                               0\n",
              "customer_id                              0\n",
              "online_order                           359\n",
              "list_price                               0\n",
              "standard_cost                          194\n",
              "postcode                                 0\n",
              "property_valuation                       0\n",
              "past_3_years_bike_related_purchases      0\n",
              "deceased_indicator                       0\n",
              "owns_car                                 0\n",
              "tenure                                 446\n",
              "age                                      0\n",
              "dtype: int64"
            ]
          },
          "metadata": {},
          "execution_count": 21
        }
      ],
      "source": [
        "num_features = d.select_dtypes(include = np.number)\n",
        "num_features.isna().sum()"
      ]
    },
    {
      "cell_type": "code",
      "execution_count": null,
      "metadata": {
        "colab": {
          "base_uri": "https://localhost:8080/"
        },
        "id": "LNYHE3v0R8m3",
        "outputId": "fe2c68a5-797f-43ba-f547-d195c66384e8"
      },
      "outputs": [
        {
          "output_type": "stream",
          "name": "stderr",
          "text": [
            "<ipython-input-22-c4e380e8b79c>:1: FutureWarning: DataFrame.mean and DataFrame.median with numeric_only=None will include datetime64 and datetime64tz columns in a future version.\n",
            "  d = d.fillna(d.median(axis=0), axis=0)\n",
            "<ipython-input-22-c4e380e8b79c>:1: FutureWarning: The default value of numeric_only in DataFrame.median is deprecated. In a future version, it will default to False. In addition, specifying 'numeric_only=None' is deprecated. Select only valid columns or specify the value of numeric_only to silence this warning.\n",
            "  d = d.fillna(d.median(axis=0), axis=0)\n"
          ]
        }
      ],
      "source": [
        "d = d.fillna(d.median(axis=0), axis=0)"
      ]
    },
    {
      "cell_type": "code",
      "execution_count": null,
      "metadata": {
        "colab": {
          "base_uri": "https://localhost:8080/"
        },
        "id": "FcM5_arZf7wY",
        "outputId": "4a03e9a3-37d9-430e-bcca-7966fc8bca0b"
      },
      "outputs": [
        {
          "output_type": "execute_result",
          "data": {
            "text/plain": [
              "index                                     0\n",
              "transaction_id                            0\n",
              "product_id                                0\n",
              "customer_id                               0\n",
              "transaction_date                          0\n",
              "online_order                              0\n",
              "order_status                              0\n",
              "brand                                   194\n",
              "product_line                            194\n",
              "product_class                           194\n",
              "product_size                            194\n",
              "list_price                                0\n",
              "standard_cost                             0\n",
              "product_first_sold_date                 194\n",
              "address                                   0\n",
              "postcode                                  0\n",
              "state                                     0\n",
              "property_valuation                        0\n",
              "first_name                                0\n",
              "last_name                               642\n",
              "gender                                    0\n",
              "past_3_years_bike_related_purchases       0\n",
              "job_title                              2379\n",
              "job_industry_category                  3222\n",
              "wealth_segment                            0\n",
              "deceased_indicator                        0\n",
              "owns_car                                  0\n",
              "tenure                                    0\n",
              "age                                       0\n",
              "dtype: int64"
            ]
          },
          "metadata": {},
          "execution_count": 23
        }
      ],
      "source": [
        "d.isna().sum()"
      ]
    },
    {
      "cell_type": "code",
      "execution_count": null,
      "metadata": {
        "colab": {
          "base_uri": "https://localhost:8080/"
        },
        "id": "98dOtoxkRTuW",
        "outputId": "a12750d9-944a-48b8-d850-1290eb4eb40d"
      },
      "outputs": [
        {
          "output_type": "stream",
          "name": "stdout",
          "text": [
            "<class 'pandas.core.frame.DataFrame'>\n",
            "RangeIndex: 19959 entries, 0 to 19958\n",
            "Data columns (total 29 columns):\n",
            " #   Column                               Non-Null Count  Dtype         \n",
            "---  ------                               --------------  -----         \n",
            " 0   index                                19959 non-null  int64         \n",
            " 1   transaction_id                       19959 non-null  int64         \n",
            " 2   product_id                           19959 non-null  int64         \n",
            " 3   customer_id                          19959 non-null  int64         \n",
            " 4   transaction_date                     19959 non-null  datetime64[ns]\n",
            " 5   online_order                         19959 non-null  float64       \n",
            " 6   order_status                         19959 non-null  object        \n",
            " 7   brand                                19765 non-null  object        \n",
            " 8   product_line                         19765 non-null  object        \n",
            " 9   product_class                        19765 non-null  object        \n",
            " 10  product_size                         19765 non-null  object        \n",
            " 11  list_price                           19959 non-null  float64       \n",
            " 12  standard_cost                        19959 non-null  float64       \n",
            " 13  product_first_sold_date              19765 non-null  object        \n",
            " 14  address                              19959 non-null  object        \n",
            " 15  postcode                             19959 non-null  int64         \n",
            " 16  state                                19959 non-null  object        \n",
            " 17  property_valuation                   19959 non-null  int64         \n",
            " 18  first_name                           19959 non-null  object        \n",
            " 19  last_name                            19317 non-null  object        \n",
            " 20  gender                               19959 non-null  object        \n",
            " 21  past_3_years_bike_related_purchases  19959 non-null  int64         \n",
            " 22  job_title                            17580 non-null  object        \n",
            " 23  job_industry_category                16737 non-null  object        \n",
            " 24  wealth_segment                       19959 non-null  object        \n",
            " 25  deceased_indicator                   19959 non-null  int64         \n",
            " 26  owns_car                             19959 non-null  int64         \n",
            " 27  tenure                               19959 non-null  float64       \n",
            " 28  age                                  19959 non-null  int64         \n",
            "dtypes: datetime64[ns](1), float64(4), int64(10), object(14)\n",
            "memory usage: 4.4+ MB\n"
          ]
        }
      ],
      "source": [
        "d.info()"
      ]
    },
    {
      "cell_type": "code",
      "execution_count": null,
      "metadata": {
        "id": "_ASkp3KVB8dO"
      },
      "outputs": [],
      "source": [
        "for el in num_features:\n",
        "    for n_type in (np.int32, np.int16, np.int8):\n",
        "        if (d[el] == d[el].astype(n_type)).sum() == len(d):\n",
        "            d[el] = d[el].astype(n_type)"
      ]
    },
    {
      "cell_type": "code",
      "execution_count": null,
      "metadata": {
        "id": "8QDrHpm1wOg5"
      },
      "outputs": [],
      "source": [
        "d1 = pd.DataFrame()\n",
        "d1['order_status'] = d['order_status']"
      ]
    },
    {
      "cell_type": "code",
      "execution_count": null,
      "metadata": {
        "id": "1lDlWJsuwVr2"
      },
      "outputs": [],
      "source": [
        "d = d.drop(columns=['order_status'], axis=1)"
      ]
    },
    {
      "cell_type": "code",
      "execution_count": null,
      "metadata": {
        "colab": {
          "base_uri": "https://localhost:8080/"
        },
        "id": "EEJnVWdosJgF",
        "outputId": "d7734645-611c-4564-9821-b5c91599095e"
      },
      "outputs": [
        {
          "output_type": "execute_result",
          "data": {
            "text/plain": [
              "Index(['brand', 'product_line', 'product_class', 'product_size',\n",
              "       'product_first_sold_date', 'address', 'state', 'first_name',\n",
              "       'last_name', 'gender', 'job_title', 'job_industry_category',\n",
              "       'wealth_segment'],\n",
              "      dtype='object')"
            ]
          },
          "metadata": {},
          "execution_count": 28
        }
      ],
      "source": [
        "cat_feat = d.select_dtypes(include = 'object')\n",
        "cat_feat.columns"
      ]
    },
    {
      "cell_type": "code",
      "execution_count": null,
      "metadata": {
        "id": "78wOdFS-voFX"
      },
      "outputs": [],
      "source": [
        "data_describe = d.describe(include=[object])\n",
        "for feature in cat_feat:\n",
        "    d[feature] = d[feature].fillna(data_describe[feature]['top'])\n"
      ]
    },
    {
      "cell_type": "code",
      "execution_count": null,
      "metadata": {
        "id": "kuB-vON4woVS"
      },
      "outputs": [],
      "source": [
        "d['target'] = d1['order_status']"
      ]
    },
    {
      "cell_type": "code",
      "execution_count": null,
      "metadata": {
        "colab": {
          "base_uri": "https://localhost:8080/"
        },
        "id": "9q1aE8ryVUAq",
        "outputId": "b40083ac-aaff-4774-fd8f-883f5fcce3c3"
      },
      "outputs": [
        {
          "output_type": "stream",
          "name": "stdout",
          "text": [
            "<class 'pandas.core.frame.DataFrame'>\n",
            "RangeIndex: 19959 entries, 0 to 19958\n",
            "Data columns (total 29 columns):\n",
            " #   Column                               Non-Null Count  Dtype         \n",
            "---  ------                               --------------  -----         \n",
            " 0   index                                19959 non-null  int16         \n",
            " 1   transaction_id                       19959 non-null  int16         \n",
            " 2   product_id                           19959 non-null  int8          \n",
            " 3   customer_id                          19959 non-null  int16         \n",
            " 4   transaction_date                     19959 non-null  datetime64[ns]\n",
            " 5   online_order                         19959 non-null  int8          \n",
            " 6   brand                                19959 non-null  object        \n",
            " 7   product_line                         19959 non-null  object        \n",
            " 8   product_class                        19959 non-null  object        \n",
            " 9   product_size                         19959 non-null  object        \n",
            " 10  list_price                           19959 non-null  float64       \n",
            " 11  standard_cost                        19959 non-null  float64       \n",
            " 12  product_first_sold_date              19959 non-null  object        \n",
            " 13  address                              19959 non-null  object        \n",
            " 14  postcode                             19959 non-null  int16         \n",
            " 15  state                                19959 non-null  object        \n",
            " 16  property_valuation                   19959 non-null  int8          \n",
            " 17  first_name                           19959 non-null  object        \n",
            " 18  last_name                            19959 non-null  object        \n",
            " 19  gender                               19959 non-null  object        \n",
            " 20  past_3_years_bike_related_purchases  19959 non-null  int8          \n",
            " 21  job_title                            19959 non-null  object        \n",
            " 22  job_industry_category                19959 non-null  object        \n",
            " 23  wealth_segment                       19959 non-null  object        \n",
            " 24  deceased_indicator                   19959 non-null  int8          \n",
            " 25  owns_car                             19959 non-null  int8          \n",
            " 26  tenure                               19959 non-null  int8          \n",
            " 27  age                                  19959 non-null  int64         \n",
            " 28  target                               19959 non-null  object        \n",
            "dtypes: datetime64[ns](1), float64(2), int16(4), int64(1), int8(7), object(14)\n",
            "memory usage: 3.0+ MB\n"
          ]
        }
      ],
      "source": [
        "d.info()"
      ]
    },
    {
      "cell_type": "code",
      "execution_count": null,
      "metadata": {
        "id": "TWvna87Tew4P"
      },
      "outputs": [],
      "source": [
        "from sklearn.preprocessing import LabelEncoder\n"
      ]
    },
    {
      "cell_type": "code",
      "execution_count": null,
      "metadata": {
        "id": "k27ipY16emi5"
      },
      "outputs": [],
      "source": [
        "for i in cat_feat:\n",
        "  lb = LabelEncoder()\n",
        "  d[i] = lb.fit_transform(d[i].astype(str))"
      ]
    },
    {
      "cell_type": "code",
      "execution_count": null,
      "metadata": {
        "colab": {
          "base_uri": "https://localhost:8080/",
          "height": 161
        },
        "id": "zf_zDT7le36b",
        "outputId": "56f09f5c-1be4-4195-f5c6-afcd885d985c"
      },
      "outputs": [
        {
          "output_type": "execute_result",
          "data": {
            "text/plain": [
              "       index  transaction_id  product_id  customer_id transaction_date  \\\n",
              "11969   9506            8003          85         1845       2017-12-09   \n",
              "9773   15720           10203          24          186       2017-08-07   \n",
              "\n",
              "       online_order  brand  product_line  product_class  product_size  ...  \\\n",
              "11969             1      5             2              2             1  ...   \n",
              "9773              1      3             1              2             0  ...   \n",
              "\n",
              "       gender  past_3_years_bike_related_purchases  job_title  \\\n",
              "11969       1                                   34         76   \n",
              "9773        0                                   46        159   \n",
              "\n",
              "       job_industry_category  wealth_segment  deceased_indicator  owns_car  \\\n",
              "11969                      2               2                   0         0   \n",
              "9773                       2               2                   0         0   \n",
              "\n",
              "       tenure                  age    target  \n",
              "11969       6  1445427050985623040  Approved  \n",
              "9773        3  1562153450985623040  Approved  \n",
              "\n",
              "[2 rows x 29 columns]"
            ],
            "text/html": [
              "\n",
              "  <div id=\"df-21f6c69a-6888-494e-bd17-3c327954d84a\" class=\"colab-df-container\">\n",
              "    <div>\n",
              "<style scoped>\n",
              "    .dataframe tbody tr th:only-of-type {\n",
              "        vertical-align: middle;\n",
              "    }\n",
              "\n",
              "    .dataframe tbody tr th {\n",
              "        vertical-align: top;\n",
              "    }\n",
              "\n",
              "    .dataframe thead th {\n",
              "        text-align: right;\n",
              "    }\n",
              "</style>\n",
              "<table border=\"1\" class=\"dataframe\">\n",
              "  <thead>\n",
              "    <tr style=\"text-align: right;\">\n",
              "      <th></th>\n",
              "      <th>index</th>\n",
              "      <th>transaction_id</th>\n",
              "      <th>product_id</th>\n",
              "      <th>customer_id</th>\n",
              "      <th>transaction_date</th>\n",
              "      <th>online_order</th>\n",
              "      <th>brand</th>\n",
              "      <th>product_line</th>\n",
              "      <th>product_class</th>\n",
              "      <th>product_size</th>\n",
              "      <th>...</th>\n",
              "      <th>gender</th>\n",
              "      <th>past_3_years_bike_related_purchases</th>\n",
              "      <th>job_title</th>\n",
              "      <th>job_industry_category</th>\n",
              "      <th>wealth_segment</th>\n",
              "      <th>deceased_indicator</th>\n",
              "      <th>owns_car</th>\n",
              "      <th>tenure</th>\n",
              "      <th>age</th>\n",
              "      <th>target</th>\n",
              "    </tr>\n",
              "  </thead>\n",
              "  <tbody>\n",
              "    <tr>\n",
              "      <th>11969</th>\n",
              "      <td>9506</td>\n",
              "      <td>8003</td>\n",
              "      <td>85</td>\n",
              "      <td>1845</td>\n",
              "      <td>2017-12-09</td>\n",
              "      <td>1</td>\n",
              "      <td>5</td>\n",
              "      <td>2</td>\n",
              "      <td>2</td>\n",
              "      <td>1</td>\n",
              "      <td>...</td>\n",
              "      <td>1</td>\n",
              "      <td>34</td>\n",
              "      <td>76</td>\n",
              "      <td>2</td>\n",
              "      <td>2</td>\n",
              "      <td>0</td>\n",
              "      <td>0</td>\n",
              "      <td>6</td>\n",
              "      <td>1445427050985623040</td>\n",
              "      <td>Approved</td>\n",
              "    </tr>\n",
              "    <tr>\n",
              "      <th>9773</th>\n",
              "      <td>15720</td>\n",
              "      <td>10203</td>\n",
              "      <td>24</td>\n",
              "      <td>186</td>\n",
              "      <td>2017-08-07</td>\n",
              "      <td>1</td>\n",
              "      <td>3</td>\n",
              "      <td>1</td>\n",
              "      <td>2</td>\n",
              "      <td>0</td>\n",
              "      <td>...</td>\n",
              "      <td>0</td>\n",
              "      <td>46</td>\n",
              "      <td>159</td>\n",
              "      <td>2</td>\n",
              "      <td>2</td>\n",
              "      <td>0</td>\n",
              "      <td>0</td>\n",
              "      <td>3</td>\n",
              "      <td>1562153450985623040</td>\n",
              "      <td>Approved</td>\n",
              "    </tr>\n",
              "  </tbody>\n",
              "</table>\n",
              "<p>2 rows × 29 columns</p>\n",
              "</div>\n",
              "    <div class=\"colab-df-buttons\">\n",
              "\n",
              "  <div class=\"colab-df-container\">\n",
              "    <button class=\"colab-df-convert\" onclick=\"convertToInteractive('df-21f6c69a-6888-494e-bd17-3c327954d84a')\"\n",
              "            title=\"Convert this dataframe to an interactive table.\"\n",
              "            style=\"display:none;\">\n",
              "\n",
              "  <svg xmlns=\"http://www.w3.org/2000/svg\" height=\"24px\" viewBox=\"0 -960 960 960\">\n",
              "    <path d=\"M120-120v-720h720v720H120Zm60-500h600v-160H180v160Zm220 220h160v-160H400v160Zm0 220h160v-160H400v160ZM180-400h160v-160H180v160Zm440 0h160v-160H620v160ZM180-180h160v-160H180v160Zm440 0h160v-160H620v160Z\"/>\n",
              "  </svg>\n",
              "    </button>\n",
              "\n",
              "  <style>\n",
              "    .colab-df-container {\n",
              "      display:flex;\n",
              "      gap: 12px;\n",
              "    }\n",
              "\n",
              "    .colab-df-convert {\n",
              "      background-color: #E8F0FE;\n",
              "      border: none;\n",
              "      border-radius: 50%;\n",
              "      cursor: pointer;\n",
              "      display: none;\n",
              "      fill: #1967D2;\n",
              "      height: 32px;\n",
              "      padding: 0 0 0 0;\n",
              "      width: 32px;\n",
              "    }\n",
              "\n",
              "    .colab-df-convert:hover {\n",
              "      background-color: #E2EBFA;\n",
              "      box-shadow: 0px 1px 2px rgba(60, 64, 67, 0.3), 0px 1px 3px 1px rgba(60, 64, 67, 0.15);\n",
              "      fill: #174EA6;\n",
              "    }\n",
              "\n",
              "    .colab-df-buttons div {\n",
              "      margin-bottom: 4px;\n",
              "    }\n",
              "\n",
              "    [theme=dark] .colab-df-convert {\n",
              "      background-color: #3B4455;\n",
              "      fill: #D2E3FC;\n",
              "    }\n",
              "\n",
              "    [theme=dark] .colab-df-convert:hover {\n",
              "      background-color: #434B5C;\n",
              "      box-shadow: 0px 1px 3px 1px rgba(0, 0, 0, 0.15);\n",
              "      filter: drop-shadow(0px 1px 2px rgba(0, 0, 0, 0.3));\n",
              "      fill: #FFFFFF;\n",
              "    }\n",
              "  </style>\n",
              "\n",
              "    <script>\n",
              "      const buttonEl =\n",
              "        document.querySelector('#df-21f6c69a-6888-494e-bd17-3c327954d84a button.colab-df-convert');\n",
              "      buttonEl.style.display =\n",
              "        google.colab.kernel.accessAllowed ? 'block' : 'none';\n",
              "\n",
              "      async function convertToInteractive(key) {\n",
              "        const element = document.querySelector('#df-21f6c69a-6888-494e-bd17-3c327954d84a');\n",
              "        const dataTable =\n",
              "          await google.colab.kernel.invokeFunction('convertToInteractive',\n",
              "                                                    [key], {});\n",
              "        if (!dataTable) return;\n",
              "\n",
              "        const docLinkHtml = 'Like what you see? Visit the ' +\n",
              "          '<a target=\"_blank\" href=https://colab.research.google.com/notebooks/data_table.ipynb>data table notebook</a>'\n",
              "          + ' to learn more about interactive tables.';\n",
              "        element.innerHTML = '';\n",
              "        dataTable['output_type'] = 'display_data';\n",
              "        await google.colab.output.renderOutput(dataTable, element);\n",
              "        const docLink = document.createElement('div');\n",
              "        docLink.innerHTML = docLinkHtml;\n",
              "        element.appendChild(docLink);\n",
              "      }\n",
              "    </script>\n",
              "  </div>\n",
              "\n",
              "\n",
              "<div id=\"df-955de9ea-9ee1-4fa6-861c-9361d6eff7fd\">\n",
              "  <button class=\"colab-df-quickchart\" onclick=\"quickchart('df-955de9ea-9ee1-4fa6-861c-9361d6eff7fd')\"\n",
              "            title=\"Suggest charts.\"\n",
              "            style=\"display:none;\">\n",
              "\n",
              "<svg xmlns=\"http://www.w3.org/2000/svg\" height=\"24px\"viewBox=\"0 0 24 24\"\n",
              "     width=\"24px\">\n",
              "    <g>\n",
              "        <path d=\"M19 3H5c-1.1 0-2 .9-2 2v14c0 1.1.9 2 2 2h14c1.1 0 2-.9 2-2V5c0-1.1-.9-2-2-2zM9 17H7v-7h2v7zm4 0h-2V7h2v10zm4 0h-2v-4h2v4z\"/>\n",
              "    </g>\n",
              "</svg>\n",
              "  </button>\n",
              "\n",
              "<style>\n",
              "  .colab-df-quickchart {\n",
              "      --bg-color: #E8F0FE;\n",
              "      --fill-color: #1967D2;\n",
              "      --hover-bg-color: #E2EBFA;\n",
              "      --hover-fill-color: #174EA6;\n",
              "      --disabled-fill-color: #AAA;\n",
              "      --disabled-bg-color: #DDD;\n",
              "  }\n",
              "\n",
              "  [theme=dark] .colab-df-quickchart {\n",
              "      --bg-color: #3B4455;\n",
              "      --fill-color: #D2E3FC;\n",
              "      --hover-bg-color: #434B5C;\n",
              "      --hover-fill-color: #FFFFFF;\n",
              "      --disabled-bg-color: #3B4455;\n",
              "      --disabled-fill-color: #666;\n",
              "  }\n",
              "\n",
              "  .colab-df-quickchart {\n",
              "    background-color: var(--bg-color);\n",
              "    border: none;\n",
              "    border-radius: 50%;\n",
              "    cursor: pointer;\n",
              "    display: none;\n",
              "    fill: var(--fill-color);\n",
              "    height: 32px;\n",
              "    padding: 0;\n",
              "    width: 32px;\n",
              "  }\n",
              "\n",
              "  .colab-df-quickchart:hover {\n",
              "    background-color: var(--hover-bg-color);\n",
              "    box-shadow: 0 1px 2px rgba(60, 64, 67, 0.3), 0 1px 3px 1px rgba(60, 64, 67, 0.15);\n",
              "    fill: var(--button-hover-fill-color);\n",
              "  }\n",
              "\n",
              "  .colab-df-quickchart-complete:disabled,\n",
              "  .colab-df-quickchart-complete:disabled:hover {\n",
              "    background-color: var(--disabled-bg-color);\n",
              "    fill: var(--disabled-fill-color);\n",
              "    box-shadow: none;\n",
              "  }\n",
              "\n",
              "  .colab-df-spinner {\n",
              "    border: 2px solid var(--fill-color);\n",
              "    border-color: transparent;\n",
              "    border-bottom-color: var(--fill-color);\n",
              "    animation:\n",
              "      spin 1s steps(1) infinite;\n",
              "  }\n",
              "\n",
              "  @keyframes spin {\n",
              "    0% {\n",
              "      border-color: transparent;\n",
              "      border-bottom-color: var(--fill-color);\n",
              "      border-left-color: var(--fill-color);\n",
              "    }\n",
              "    20% {\n",
              "      border-color: transparent;\n",
              "      border-left-color: var(--fill-color);\n",
              "      border-top-color: var(--fill-color);\n",
              "    }\n",
              "    30% {\n",
              "      border-color: transparent;\n",
              "      border-left-color: var(--fill-color);\n",
              "      border-top-color: var(--fill-color);\n",
              "      border-right-color: var(--fill-color);\n",
              "    }\n",
              "    40% {\n",
              "      border-color: transparent;\n",
              "      border-right-color: var(--fill-color);\n",
              "      border-top-color: var(--fill-color);\n",
              "    }\n",
              "    60% {\n",
              "      border-color: transparent;\n",
              "      border-right-color: var(--fill-color);\n",
              "    }\n",
              "    80% {\n",
              "      border-color: transparent;\n",
              "      border-right-color: var(--fill-color);\n",
              "      border-bottom-color: var(--fill-color);\n",
              "    }\n",
              "    90% {\n",
              "      border-color: transparent;\n",
              "      border-bottom-color: var(--fill-color);\n",
              "    }\n",
              "  }\n",
              "</style>\n",
              "\n",
              "  <script>\n",
              "    async function quickchart(key) {\n",
              "      const quickchartButtonEl =\n",
              "        document.querySelector('#' + key + ' button');\n",
              "      quickchartButtonEl.disabled = true;  // To prevent multiple clicks.\n",
              "      quickchartButtonEl.classList.add('colab-df-spinner');\n",
              "      try {\n",
              "        const charts = await google.colab.kernel.invokeFunction(\n",
              "            'suggestCharts', [key], {});\n",
              "      } catch (error) {\n",
              "        console.error('Error during call to suggestCharts:', error);\n",
              "      }\n",
              "      quickchartButtonEl.classList.remove('colab-df-spinner');\n",
              "      quickchartButtonEl.classList.add('colab-df-quickchart-complete');\n",
              "    }\n",
              "    (() => {\n",
              "      let quickchartButtonEl =\n",
              "        document.querySelector('#df-955de9ea-9ee1-4fa6-861c-9361d6eff7fd button');\n",
              "      quickchartButtonEl.style.display =\n",
              "        google.colab.kernel.accessAllowed ? 'block' : 'none';\n",
              "    })();\n",
              "  </script>\n",
              "</div>\n",
              "    </div>\n",
              "  </div>\n"
            ]
          },
          "metadata": {},
          "execution_count": 34
        }
      ],
      "source": [
        "d.sample(2)"
      ]
    },
    {
      "cell_type": "code",
      "execution_count": null,
      "metadata": {
        "id": "qGiuvBr0d3BI"
      },
      "outputs": [],
      "source": [
        "d = d.drop(columns=['transaction_id', 'postcode', 'address', 'first_name', 'last_name',\n",
        "                     'product_id', 'standard_cost', 'product_first_sold_date', 'transaction_date'], axis=1)"
      ]
    },
    {
      "cell_type": "code",
      "execution_count": null,
      "metadata": {
        "colab": {
          "base_uri": "https://localhost:8080/",
          "height": 1000
        },
        "id": "kgyF0Fu9xrz_",
        "outputId": "136abccd-a01c-43c8-8e02-c6d443d269da"
      },
      "outputs": [
        {
          "output_type": "stream",
          "name": "stderr",
          "text": [
            "<ipython-input-36-30c82b709bf3>:2: FutureWarning: The default value of numeric_only in DataFrame.corr is deprecated. In a future version, it will default to False. Select only valid columns or specify the value of numeric_only to silence this warning.\n",
            "  sns.heatmap(d.corr(), annot = True, linewidths=.6, cmap = 'YlGnBu')\n"
          ]
        },
        {
          "output_type": "execute_result",
          "data": {
            "text/plain": [
              "<Axes: >"
            ]
          },
          "metadata": {},
          "execution_count": 36
        },
        {
          "output_type": "display_data",
          "data": {
            "text/plain": [
              "<Figure size 1500x800 with 2 Axes>"
            ],
            "image/png": "[encoded data removed]"
          },
          "metadata": {}
        }
      ],
      "source": [
        "plt.figure(figsize=(15,8))\n",
        "sns.heatmap(d.corr(), annot = True, linewidths=.6, cmap = 'YlGnBu')"
      ]
    },
    {
      "cell_type": "code",
      "execution_count": null,
      "metadata": {
        "id": "wHly5_Hlrfo-"
      },
      "outputs": [],
      "source": [
        "from sklearn.model_selection import train_test_split"
      ]
    },
    {
      "cell_type": "code",
      "execution_count": null,
      "metadata": {
        "id": "KMlDJDtYrfqk"
      },
      "outputs": [],
      "source": [
        "train_data, test_data = train_test_split(d, random_state=42, test_size=0.2)"
      ]
    },
    {
      "cell_type": "code",
      "execution_count": null,
      "metadata": {
        "id": "V2E7d-AWsMPP"
      },
      "outputs": [],
      "source": [
        "X_train = train_data.drop(['target'], axis=1)\n",
        "y_train = train_data['target']"
      ]
    },
    {
      "cell_type": "code",
      "execution_count": null,
      "metadata": {
        "id": "4Xp1L7Uron1H"
      },
      "outputs": [],
      "source": [
        "from imblearn.over_sampling import SMOTE\n",
        "smote = SMOTE(sampling_strategy='minority')\n",
        "X_train, y_train = smote.fit_resample(X_train, y_train)"
      ]
    },
    {
      "cell_type": "code",
      "execution_count": null,
      "metadata": {
        "id": "JRgq-PC7uf6F"
      },
      "outputs": [],
      "source": [
        "X_test = test_data.drop(['target'], axis=1)\n",
        "y_test = test_data['target']"
      ]
    },
    {
      "cell_type": "code",
      "execution_count": null,
      "metadata": {
        "id": "YerCBLcmpeGB"
      },
      "outputs": [],
      "source": [
        "from sklearn.preprocessing import MinMaxScaler\n",
        "minmax = MinMaxScaler()\n",
        "scaled_minmax = minmax.fit_transform(X_train)\n",
        "scaled_minmax_X_train = pd.DataFrame(scaled_minmax, columns = X_train.columns)\n",
        "scaled_minmax_X_test = pd.DataFrame(scaled_minmax, columns = X_test.columns)"
      ]
    },
    {
      "cell_type": "code",
      "execution_count": null,
      "metadata": {
        "id": "CbqPT6rms6Fz"
      },
      "outputs": [],
      "source": [
        "from sklearn.linear_model import LogisticRegression\n",
        "from sklearn.metrics import accuracy_score, f1_score, roc_auc_score, precision_score, classification_report, recall_score\n"
      ]
    },
    {
      "cell_type": "code",
      "execution_count": null,
      "metadata": {
        "colab": {
          "base_uri": "https://localhost:8080/",
          "height": 75
        },
        "id": "L_8AoO02rvZ1",
        "outputId": "ef8c81da-ca88-4baa-f37d-2d5121253610"
      },
      "outputs": [
        {
          "output_type": "execute_result",
          "data": {
            "text/plain": [
              "LogisticRegression()"
            ],
            "text/html": [
              "<style>#sk-container-id-1 {color: black;background-color: white;}#sk-container-id-1 pre{padding: 0;}#sk-container-id-1 div.sk-toggleable {background-color: white;}#sk-container-id-1 label.sk-toggleable__label {cursor: pointer;display: block;width: 100%;margin-bottom: 0;padding: 0.3em;box-sizing: border-box;text-align: center;}#sk-container-id-1 label.sk-toggleable__label-arrow:before {content: \"▸\";float: left;margin-right: 0.25em;color: #696969;}#sk-container-id-1 label.sk-toggleable__label-arrow:hover:before {color: black;}#sk-container-id-1 div.sk-estimator:hover label.sk-toggleable__label-arrow:before {color: black;}#sk-container-id-1 div.sk-toggleable__content {max-height: 0;max-width: 0;overflow: hidden;text-align: left;background-color: #f0f8ff;}#sk-container-id-1 div.sk-toggleable__content pre {margin: 0.2em;color: black;border-radius: 0.25em;background-color: #f0f8ff;}#sk-container-id-1 input.sk-toggleable__control:checked~div.sk-toggleable__content {max-height: 200px;max-width: 100%;overflow: auto;}#sk-container-id-1 input.sk-toggleable__control:checked~label.sk-toggleable__label-arrow:before {content: \"▾\";}#sk-container-id-1 div.sk-estimator input.sk-toggleable__control:checked~label.sk-toggleable__label {background-color: #d4ebff;}#sk-container-id-1 div.sk-label input.sk-toggleable__control:checked~label.sk-toggleable__label {background-color: #d4ebff;}#sk-container-id-1 input.sk-hidden--visually {border: 0;clip: rect(1px 1px 1px 1px);clip: rect(1px, 1px, 1px, 1px);height: 1px;margin: -1px;overflow: hidden;padding: 0;position: absolute;width: 1px;}#sk-container-id-1 div.sk-estimator {font-family: monospace;background-color: #f0f8ff;border: 1px dotted black;border-radius: 0.25em;box-sizing: border-box;margin-bottom: 0.5em;}#sk-container-id-1 div.sk-estimator:hover {background-color: #d4ebff;}#sk-container-id-1 div.sk-parallel-item::after {content: \"\";width: 100%;border-bottom: 1px solid gray;flex-grow: 1;}#sk-container-id-1 div.sk-label:hover label.sk-toggleable__label {background-color: #d4ebff;}#sk-container-id-1 div.sk-serial::before {content: \"\";position: absolute;border-left: 1px solid gray;box-sizing: border-box;top: 0;bottom: 0;left: 50%;z-index: 0;}#sk-container-id-1 div.sk-serial {display: flex;flex-direction: column;align-items: center;background-color: white;padding-right: 0.2em;padding-left: 0.2em;position: relative;}#sk-container-id-1 div.sk-item {position: relative;z-index: 1;}#sk-container-id-1 div.sk-parallel {display: flex;align-items: stretch;justify-content: center;background-color: white;position: relative;}#sk-container-id-1 div.sk-item::before, #sk-container-id-1 div.sk-parallel-item::before {content: \"\";position: absolute;border-left: 1px solid gray;box-sizing: border-box;top: 0;bottom: 0;left: 50%;z-index: -1;}#sk-container-id-1 div.sk-parallel-item {display: flex;flex-direction: column;z-index: 1;position: relative;background-color: white;}#sk-container-id-1 div.sk-parallel-item:first-child::after {align-self: flex-end;width: 50%;}#sk-container-id-1 div.sk-parallel-item:last-child::after {align-self: flex-start;width: 50%;}#sk-container-id-1 div.sk-parallel-item:only-child::after {width: 0;}#sk-container-id-1 div.sk-dashed-wrapped {border: 1px dashed gray;margin: 0 0.4em 0.5em 0.4em;box-sizing: border-box;padding-bottom: 0.4em;background-color: white;}#sk-container-id-1 div.sk-label label {font-family: monospace;font-weight: bold;display: inline-block;line-height: 1.2em;}#sk-container-id-1 div.sk-label-container {text-align: center;}#sk-container-id-1 div.sk-container {/* jupyter's `normalize.less` sets `[hidden] { display: none; }` but bootstrap.min.css set `[hidden] { display: none !important; }` so we also need the `!important` here to be able to override the default hidden behavior on the sphinx rendered scikit-learn.org. See: https://github.com/scikit-learn/scikit-learn/issues/21755 */display: inline-block !important;position: relative;}#sk-container-id-1 div.sk-text-repr-fallback {display: none;}</style><div id=\"sk-container-id-1\" class=\"sk-top-container\"><div class=\"sk-text-repr-fallback\"><pre>LogisticRegression()</pre><b>In a Jupyter environment, please rerun this cell to show the HTML representation or trust the notebook. <br />On GitHub, the HTML representation is unable to render, please try loading this page with nbviewer.org.</b></div><div class=\"sk-container\" hidden><div class=\"sk-item\"><div class=\"sk-estimator sk-toggleable\"><input class=\"sk-toggleable__control sk-hidden--visually\" id=\"sk-estimator-id-1\" type=\"checkbox\" checked><label for=\"sk-estimator-id-1\" class=\"sk-toggleable__label sk-toggleable__label-arrow\">LogisticRegression</label><div class=\"sk-toggleable__content\"><pre>LogisticRegression()</pre></div></div></div></div></div>"
            ]
          },
          "metadata": {},
          "execution_count": 44
        }
      ],
      "source": [
        "lr =LogisticRegression()\n",
        "lr.fit(X_train, y_train)"
      ]
    },
    {
      "cell_type": "code",
      "execution_count": null,
      "metadata": {
        "id": "hXPVLXlYo-Pm"
      },
      "outputs": [],
      "source": [
        "predict = lr.predict(X_test)"
      ]
    },
    {
      "cell_type": "code",
      "execution_count": null,
      "metadata": {
        "colab": {
          "base_uri": "https://localhost:8080/"
        },
        "id": "HKTWb2qOpIwG",
        "outputId": "3ffb9e66-f9af-4c94-83fd-8170d4602435"
      },
      "outputs": [
        {
          "output_type": "execute_result",
          "data": {
            "text/plain": [
              "array([0.50027015, 0.50050903, 0.50051641, ..., 0.50067424, 0.50055612,\n",
              "       0.50068057])"
            ]
          },
          "metadata": {},
          "execution_count": 46
        }
      ],
      "source": [
        "predict_proba = lr.predict_proba(X_test)[:, 1]\n",
        "predict_proba"
      ]
    },
    {
      "cell_type": "code",
      "execution_count": null,
      "metadata": {
        "colab": {
          "base_uri": "https://localhost:8080/"
        },
        "id": "5yTzaWw8pQFG",
        "outputId": "6a773988-b0e3-4356-ad07-2da6ec085765"
      },
      "outputs": [
        {
          "output_type": "execute_result",
          "data": {
            "text/plain": [
              "{'f1': 0.017874875868917575,\n",
              " 'recall': 1.0,\n",
              " 'precision': 0.009018036072144289,\n",
              " 'ROC_AUC': 0.5933146556566677}"
            ]
          },
          "metadata": {},
          "execution_count": 47
        }
      ],
      "source": [
        "metrics = {\n",
        "    \"f1\": f1_score(y_test, predict, pos_label='Cancelled'),\n",
        "    \"recall\": recall_score(y_test, predict, pos_label='Cancelled'),\n",
        "    \"precision\": precision_score(y_test, predict, pos_label='Cancelled'),\n",
        "    \"ROC_AUC\" :roc_auc_score(y_test, predict_proba)}\n",
        "metrics"
      ]
    },
    {
      "cell_type": "code",
      "execution_count": null,
      "metadata": {
        "colab": {
          "base_uri": "https://localhost:8080/"
        },
        "id": "Tcc25iwMqAPp",
        "outputId": "9d23ceea-556d-4fb9-c9d3-5367841aae79"
      },
      "outputs": [
        {
          "output_type": "stream",
          "name": "stderr",
          "text": [
            "/usr/local/lib/python3.10/dist-packages/sklearn/metrics/_classification.py:1344: UndefinedMetricWarning: Precision and F-score are ill-defined and being set to 0.0 in labels with no predicted samples. Use `zero_division` parameter to control this behavior.\n",
            "  _warn_prf(average, modifier, msg_start, len(result))\n",
            "/usr/local/lib/python3.10/dist-packages/sklearn/metrics/_classification.py:1344: UndefinedMetricWarning: Precision and F-score are ill-defined and being set to 0.0 in labels with no predicted samples. Use `zero_division` parameter to control this behavior.\n",
            "  _warn_prf(average, modifier, msg_start, len(result))\n",
            "/usr/local/lib/python3.10/dist-packages/sklearn/metrics/_classification.py:1344: UndefinedMetricWarning: Precision and F-score are ill-defined and being set to 0.0 in labels with no predicted samples. Use `zero_division` parameter to control this behavior.\n",
            "  _warn_prf(average, modifier, msg_start, len(result))\n"
          ]
        },
        {
          "output_type": "stream",
          "name": "stdout",
          "text": [
            "              precision    recall  f1-score   support\n",
            "\n",
            "    Approved       0.00      0.00      0.00      3956\n",
            "   Cancelled       0.01      1.00      0.02        36\n",
            "\n",
            "    accuracy                           0.01      3992\n",
            "   macro avg       0.00      0.50      0.01      3992\n",
            "weighted avg       0.00      0.01      0.00      3992\n",
            "\n"
          ]
        }
      ],
      "source": [
        "print(classification_report(y_test, predict))"
      ]
    }
  ],
  "metadata": {
    "colab": {
      "provenance": []
    },
    "kernelspec": {
      "display_name": "Python 3",
      "name": "python3"
    },
    "language_info": {
      "name": "python"
    }
  },
  "nbformat": 4,
  "nbformat_minor": 0
}